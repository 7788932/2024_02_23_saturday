{
 "cells": [
  {
   "cell_type": "code",
   "execution_count": 1,
   "metadata": {},
   "outputs": [
    {
     "name": "stdout",
     "output_type": "stream",
     "text": [
      "===============猜數字遊戲==========\n",
      "\n",
      "\n",
      "輸入的格式有誤\n",
      "你已經猜了1次\n",
      "超出範圍\n",
      "你已經猜了2次\n"
     ]
    }
   ],
   "source": [
    "import random\n",
    "\n",
    "min = 1\n",
    "max = 100\n",
    "guess = random.randint(1,100)\n",
    "count = 0\n",
    "\n",
    "print(\"===============猜數字遊戲==========\\n\\n\")\n",
    "while (True):\n",
    "    try:\n",
    "        keyin = int(input(f'猜數字範圍{min}~{max}'))\n",
    "        if (min <= keyin <= max):\n",
    "            print('範圍內')\n",
    "            break\n",
    "        else:\n",
    "            print('超出範圍')\n",
    "\n",
    "    except:\n",
    "        print('輸入的格式有誤')\n",
    "    count += 1\n",
    "    print(f'你已經猜了{count}次')\n",
    "print('遊戲結束')\n",
    "\n"
   ]
  }
 ],
 "metadata": {
  "kernelspec": {
   "display_name": "Python 3",
   "language": "python",
   "name": "python3"
  },
  "language_info": {
   "codemirror_mode": {
    "name": "ipython",
    "version": 3
   },
   "file_extension": ".py",
   "mimetype": "text/x-python",
   "name": "python",
   "nbconvert_exporter": "python",
   "pygments_lexer": "ipython3",
   "version": "3.10.13"
  }
 },
 "nbformat": 4,
 "nbformat_minor": 2
}
