{
 "cells": [
  {
   "cell_type": "code",
   "execution_count": 6,
   "metadata": {},
   "outputs": [
    {
     "ename": "SyntaxError",
     "evalue": "invalid syntax (<string>, line 0)",
     "output_type": "error",
     "traceback": [
      "Traceback \u001b[0;36m(most recent call last)\u001b[0m:\n",
      "\u001b[0m  File \u001b[1;32m~/.local/lib/python3.10/site-packages/IPython/core/interactiveshell.py:3553\u001b[0m in \u001b[1;35mrun_code\u001b[0m\n    exec(code_obj, self.user_global_ns, self.user_ns)\u001b[0m\n",
      "\u001b[0;36m  Cell \u001b[0;32mIn[6], line 2\u001b[0;36m\n\u001b[0;31m    side1 = eval(input(\"請輸入直角三角形的斜邊\"))\u001b[0;36m\n",
      "\u001b[0;36m  File \u001b[0;32m<string>\u001b[0;36m\u001b[0m\n\u001b[0;31m    \u001b[0m\n\u001b[0m    ^\u001b[0m\n\u001b[0;31mSyntaxError\u001b[0m\u001b[0;31m:\u001b[0m invalid syntax\n"
     ]
    }
   ],
   "source": [
    "import math\n",
    "side1 = eval(input(\"請輸入直角三角形的斜邊\"))\n",
    "side2 = eval(input(\"請輸入直角三角形的對邊\"))\n",
    "\n",
    "radian = math.asin(side2 / side1)\n",
    "degree = math.degrees(radian)\n",
    "\n",
    "print(f'斜邊:{side1},對邊:{side2}')\n",
    "print(f'角度是{degree:.2f}')"
   ]
  },
  {
   "cell_type": "code",
   "execution_count": null,
   "metadata": {},
   "outputs": [
    {
     "name": "stdout",
     "output_type": "stream",
     "text": [
      "1.3.5.7.9.11的平均是6\n",
      "1.3.5.7.9.11的中間數是6.0\n",
      "1.3.5.7.9.11的標準差是3.7416573867739413\n"
     ]
    }
   ],
   "source": [
    "import statistics\n",
    "#[1.3.5.7.9.11]\n",
    "#平均\n",
    "#中間數\n",
    "#標準差\n",
    "\n",
    "mean_value = statistics.mean([1,3,5,7,9,11])\n",
    "median_value = statistics.median([1,3,5,7,9,11])\n",
    "stdev_value= statistics.stdev([1,3,5,7,9,11])\n",
    "\n",
    "print(f'1.3.5.7.9.11的平均是{mean_value}')\n",
    "print(f'1.3.5.7.9.11的中間數是{median_value}')\n",
    "print(f'1.3.5.7.9.11的標準差是{stdev_value}')\n"
   ]
  },
  {
   "cell_type": "code",
   "execution_count": null,
   "metadata": {},
   "outputs": [
    {
     "data": {
      "text/plain": [
       "5"
      ]
     },
     "execution_count": 6,
     "metadata": {},
     "output_type": "execute_result"
    }
   ],
   "source": [
    "# 沒有變數接收 n+5 ，所以其無意義\n",
    "n = 5\n",
    "n+5\n",
    "n"
   ]
  },
  {
   "cell_type": "code",
   "execution_count": null,
   "metadata": {},
   "outputs": [
    {
     "data": {
      "text/plain": [
       "10"
      ]
     },
     "execution_count": 8,
     "metadata": {},
     "output_type": "execute_result"
    }
   ],
   "source": [
    "# 有變數接收 n+5 ，所以其有意義\n",
    "n = 5\n",
    "n = n+5\n",
    "n"
   ]
  },
  {
   "cell_type": "markdown",
   "metadata": {},
   "source": []
  }
 ],
 "metadata": {
  "kernelspec": {
   "display_name": "Python 3",
   "language": "python",
   "name": "python3"
  },
  "language_info": {
   "codemirror_mode": {
    "name": "ipython",
    "version": 3
   },
   "file_extension": ".py",
   "mimetype": "text/x-python",
   "name": "python",
   "nbconvert_exporter": "python",
   "pygments_lexer": "ipython3",
   "version": "3.10.13"
  }
 },
 "nbformat": 4,
 "nbformat_minor": 2
}
