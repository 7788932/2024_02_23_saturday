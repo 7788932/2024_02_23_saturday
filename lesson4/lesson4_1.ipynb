{
 "cells": [
  {
   "cell_type": "code",
   "execution_count": 1,
   "metadata": {},
   "outputs": [
    {
     "name": "stdout",
     "output_type": "stream",
     "text": [
      "斜邊:50,對邊:25\n",
      "角度是30.00\n"
     ]
    }
   ],
   "source": [
    "import math\n",
    "side1 = eval(input(\"請輸入直角三角形的斜邊\"))\n",
    "side2 = eval(input(\"請輸入直角三角形的對邊\"))\n",
    "\n",
    "radian = math.asin(side2 / side1)\n",
    "degree = math.degrees(radian)\n",
    "\n",
    "print(f'斜邊:{side1},對邊:{side2}')\n",
    "print(f'角度是{degree:.2f}')"
   ]
  },
  {
   "cell_type": "code",
   "execution_count": 3,
   "metadata": {},
   "outputs": [
    {
     "name": "stdout",
     "output_type": "stream",
     "text": [
      "1.3.5.7.9.11的平均是6\n",
      "1.3.5.7.9.11的中間數是6.0\n",
      "1.3.5.7.9.11的標準差是3.7416573867739413\n"
     ]
    }
   ],
   "source": [
    "import statistics\n",
    "#[1.3.5.7.9.11]\n",
    "#平均\n",
    "#中間數\n",
    "#標準差\n",
    "\n",
    "mean_value = statistics.mean([1,3,5,7,9,11])\n",
    "median_value = statistics.median([1,3,5,7,9,11])\n",
    "stdev_value= statistics.stdev([1,3,5,7,9,11])\n",
    "\n",
    "print(f'1.3.5.7.9.11的平均是{mean_value}')\n",
    "print(f'1.3.5.7.9.11的中間數是{median_value}')\n",
    "print(f'1.3.5.7.9.11的標準差是{stdev_value}')\n"
   ]
  },
  {
   "cell_type": "code",
   "execution_count": 6,
   "metadata": {},
   "outputs": [
    {
     "data": {
      "text/plain": [
       "5"
      ]
     },
     "execution_count": 6,
     "metadata": {},
     "output_type": "execute_result"
    }
   ],
   "source": [
    "# 沒有變數接收 n+5 ，所以其無意義\n",
    "n = 5\n",
    "n+5\n",
    "n"
   ]
  },
  {
   "cell_type": "code",
   "execution_count": 8,
   "metadata": {},
   "outputs": [
    {
     "data": {
      "text/plain": [
       "10"
      ]
     },
     "execution_count": 8,
     "metadata": {},
     "output_type": "execute_result"
    }
   ],
   "source": [
    "# 有變數接收 n+5 ，所以其有意義\n",
    "n = 5\n",
    "n = n+5\n",
    "n"
   ]
  },
  {
   "cell_type": "markdown",
   "metadata": {},
   "source": []
  }
 ],
 "metadata": {
  "kernelspec": {
   "display_name": "Python 3",
   "language": "python",
   "name": "python3"
  },
  "language_info": {
   "codemirror_mode": {
    "name": "ipython",
    "version": 3
   },
   "file_extension": ".py",
   "mimetype": "text/x-python",
   "name": "python",
   "nbconvert_exporter": "python",
   "pygments_lexer": "ipython3",
   "version": "3.10.13"
  }
 },
 "nbformat": 4,
 "nbformat_minor": 2
}
