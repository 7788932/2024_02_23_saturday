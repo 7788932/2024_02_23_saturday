{
 "cells": [
  {
   "cell_type": "code",
   "execution_count": 3,
   "metadata": {},
   "outputs": [
    {
     "data": {
      "text/plain": [
       "200"
      ]
     },
     "execution_count": 3,
     "metadata": {},
     "output_type": "execute_result"
    }
   ],
   "source": [
    "# 複合指定運算子\n",
    "\n",
    "n=5\n",
    "n += 15\n",
    "n *= 10\n",
    "n\n"
   ]
  },
  {
   "cell_type": "code",
   "execution_count": 4,
   "metadata": {},
   "outputs": [
    {
     "name": "stdout",
     "output_type": "stream",
     "text": [
      "三數家總為11.100000000000001\n"
     ]
    }
   ],
   "source": [
    "#請以(複合指定運算子)設計程式,讓用者輸入三個任意數，程式會顯示3數相加的總和(float)\n",
    "\n",
    "total = 0\n",
    "value = eval(input('輸入第一個數:'))\n",
    "total += value\n",
    "\n",
    "value = eval(input('輸入第二個數:'))\n",
    "total += value\n",
    "\n",
    "value = eval(input('輸入第三個數:'))\n",
    "total += value\n",
    "\n",
    "print(f'三數加總為{total}')"
   ]
  },
  {
   "cell_type": "markdown",
   "metadata": {},
   "source": []
  }
 ],
 "metadata": {
  "kernelspec": {
   "display_name": "Python 3",
   "language": "python",
   "name": "python3"
  },
  "language_info": {
   "codemirror_mode": {
    "name": "ipython",
    "version": 3
   },
   "file_extension": ".py",
   "mimetype": "text/x-python",
   "name": "python",
   "nbconvert_exporter": "python",
   "pygments_lexer": "ipython3",
   "version": "3.10.13"
  }
 },
 "nbformat": 4,
 "nbformat_minor": 2
}
