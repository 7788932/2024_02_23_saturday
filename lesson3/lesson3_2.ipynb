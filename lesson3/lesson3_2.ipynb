{
 "cells": [
  {
   "cell_type": "code",
   "execution_count": 1,
   "metadata": {},
   "outputs": [
    {
     "data": {
      "text/plain": [
       "'50'"
      ]
     },
     "execution_count": 1,
     "metadata": {},
     "output_type": "execute_result"
    }
   ],
   "source": [
    "num=input('請輸入整數')\n",
    "num"
   ]
  },
  {
   "cell_type": "code",
   "execution_count": 2,
   "metadata": {},
   "outputs": [
    {
     "data": {
      "text/plain": [
       "30"
      ]
     },
     "execution_count": 2,
     "metadata": {},
     "output_type": "execute_result"
    }
   ],
   "source": [
    "# 3個步驟\n",
    "num=input('請輸入整數')\n",
    "num=int(num)\n",
    "num"
   ]
  },
  {
   "cell_type": "code",
   "execution_count": 4,
   "metadata": {},
   "outputs": [
    {
     "data": {
      "text/plain": [
       "50"
      ]
     },
     "execution_count": 4,
     "metadata": {},
     "output_type": "execute_result"
    }
   ],
   "source": [
    "num1=int(input('請輸入整數'))\n",
    "num1"
   ]
  },
  {
   "cell_type": "code",
   "execution_count": 6,
   "metadata": {},
   "outputs": [
    {
     "data": {
      "text/plain": [
       "50.0"
      ]
     },
     "execution_count": 6,
     "metadata": {},
     "output_type": "execute_result"
    }
   ],
   "source": [
    "num3 = float(input(\"請輸入浮點數\"))\n",
    "num3"
   ]
  },
  {
   "cell_type": "code",
   "execution_count": 7,
   "metadata": {},
   "outputs": [
    {
     "data": {
      "text/plain": [
       "float"
      ]
     },
     "execution_count": 7,
     "metadata": {},
     "output_type": "execute_result"
    }
   ],
   "source": [
    "num4 = eval(input(\"請輸入整數或浮點數\"))\n",
    "type(num4)"
   ]
  },
  {
   "cell_type": "code",
   "execution_count": 9,
   "metadata": {},
   "outputs": [
    {
     "name": "stdout",
     "output_type": "stream",
     "text": [
      "您的身高:172公分\n",
      "您的體重:62公斤\n",
      "您的BMI:20.95727\n"
     ]
    }
   ],
   "source": [
    "# BMI值計算公式:    BMI = 體重(公斤) / 身高2(公尺2)\n",
    "\n",
    "height = eval(input(\"請輸入身高(公分):\"))\n",
    "weight = eval(input(\"請輸入體重(公斤):\"))\n",
    "bmi = weight / (height/100) ** 2\n",
    "print('您的身高:',height,'公分',sep='')\n",
    "print('您的體重:',weight,\"公斤\",sep='')\n",
    "print('您的BMI:',round(bmi,ndigits=5),sep='')"
   ]
  },
  {
   "cell_type": "code",
   "execution_count": 8,
   "metadata": {},
   "outputs": [
    {
     "data": {
      "text/plain": [
       "17.998"
      ]
     },
     "execution_count": 8,
     "metadata": {},
     "output_type": "execute_result"
    }
   ],
   "source": [
    "num1=17.99816345270891\n",
    "round(num1,ndigits=3)"
   ]
  },
  {
   "cell_type": "code",
   "execution_count": 23,
   "metadata": {},
   "outputs": [
    {
     "data": {
      "text/plain": [
       "3.141"
      ]
     },
     "execution_count": 23,
     "metadata": {},
     "output_type": "execute_result"
    }
   ],
   "source": [
    "# 若第n項為0，則不顯示\n",
    "num1=3.1410256\n",
    "\n",
    "round(num1,ndigits=4)"
   ]
  },
  {
   "cell_type": "code",
   "execution_count": 27,
   "metadata": {},
   "outputs": [
    {
     "data": {
      "text/plain": [
       "'我的身高是187公分'"
      ]
     },
     "execution_count": 27,
     "metadata": {},
     "output_type": "execute_result"
    }
   ],
   "source": [
    "#字串插補(字串格式化)\n",
    "height = 187\n",
    "#字串和變數整合成為全新的字串\n",
    "f'我的身高是{height}公分'"
   ]
  },
  {
   "cell_type": "code",
   "execution_count": 10,
   "metadata": {},
   "outputs": [
    {
     "name": "stdout",
     "output_type": "stream",
     "text": [
      "您的身高:165公分\n",
      "您的體重:51公斤\n",
      "您的BMI:18.73278\n"
     ]
    }
   ],
   "source": [
    "# BMI值計算公式:    BMI = 體重(公斤) / 身高2(公尺2)\n",
    "\n",
    "height = eval(input(\"請輸入身高(公分):\"))\n",
    "weight = eval(input(\"請輸入體重(公斤):\"))\n",
    "bmi = weight / (height/100) ** 2\n",
    "#利用字串插補\n",
    "print(f'您的身高:{height}公分')\n",
    "print(f'您的體重:{weight}公斤')\n",
    "print(f'您的BMI:',round(bmi,ndigits=5),sep='')"
   ]
  },
  {
   "cell_type": "code",
   "execution_count": 12,
   "metadata": {},
   "outputs": [
    {
     "name": "stdout",
     "output_type": "stream",
     "text": [
      "您的身高:165公分\n",
      "您的體重:50公斤\n",
      "您的BMI:18.365\n"
     ]
    }
   ],
   "source": [
    "# BMI值計算公式:    BMI = 體重(公斤) / 身高2(公尺2)\n",
    "\n",
    "height = eval(input(\"請輸入身高(公分):\"))\n",
    "weight = eval(input(\"請輸入體重(公斤):\"))\n",
    "bmi = weight / (height/100) ** 2\n",
    "#利用字串插補\n",
    "print(f'您的身高:{height}公分')\n",
    "print(f'您的體重:{weight}公斤')\n",
    "\n",
    "print(f'您的BMI:{bmi:.3f}')"
   ]
  },
  {
   "cell_type": "code",
   "execution_count": 7,
   "metadata": {},
   "outputs": [
    {
     "name": "stdout",
     "output_type": "stream",
     "text": [
      "上底:178公分\n",
      "下底:60公分\n",
      "高:23公分\n",
      "梯形面積I:2737.00\n"
     ]
    }
   ],
   "source": [
    "up = eval(input('請輸請輸入上底(公分):'))\n",
    "down = eval(input(\"請輸入下底(公分):\"))\n",
    "height = eval(input(\"請輸入高(公分):\"))\n",
    "area=(up+down)*height/2\n",
    "\n",
    "print(f'上底:{up}公分')\n",
    "print(f'下底:{down}公分')\n",
    "print(f'高:{height}公分')\n",
    "\n",
    "print(f'梯形面積I:{area:.2f}')\n"
   ]
  }
 ],
 "metadata": {
  "kernelspec": {
   "display_name": "Python 3",
   "language": "python",
   "name": "python3"
  },
  "language_info": {
   "codemirror_mode": {
    "name": "ipython",
    "version": 3
   },
   "file_extension": ".py",
   "mimetype": "text/x-python",
   "name": "python",
   "nbconvert_exporter": "python",
   "pygments_lexer": "ipython3",
   "version": "3.10.13"
  }
 },
 "nbformat": 4,
 "nbformat_minor": 2
}
