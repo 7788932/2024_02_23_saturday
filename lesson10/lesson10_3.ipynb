{
 "cells": [
  {
   "cell_type": "code",
   "execution_count": 1,
   "metadata": {},
   "outputs": [
    {
     "name": "stdout",
     "output_type": "stream",
     "text": [
      "file物件被關閉\n"
     ]
    }
   ],
   "source": [
    "file = open('names.txt',encoding='utf-8')\n",
    "#處理file實體\n",
    "file.close()\n",
    "if file.closed:\n",
    "    print('file物件被關閉')\n",
    "else:\n",
    "    print('file物件沒有關閉')"
   ]
  },
  {
   "cell_type": "code",
   "execution_count": 2,
   "metadata": {},
   "outputs": [
    {
     "name": "stdout",
     "output_type": "stream",
     "text": [
      "file物件被關閉\n"
     ]
    }
   ],
   "source": [
    "try:\n",
    "    file = open('names.txt',encoding='utf-8')\n",
    "finally:\n",
    "    #處理file實體\n",
    "    file.close()\n",
    "if file.closed:\n",
    "    print('file物件被關閉')\n",
    "else:\n",
    "    print('file物件沒有關閉')"
   ]
  },
  {
   "cell_type": "code",
   "execution_count": 3,
   "metadata": {},
   "outputs": [
    {
     "data": {
      "text/plain": [
       "'陳怡伶\\n馮芳如\\n蒙淑惠\\n張軒宸\\n陳向愛\\n賴心怡\\n王怡珊\\n林詠斌\\n陳淑娟\\n崔孝憲\\n林希啟\\n楊韋廷\\n陳文賢\\n王士銘\\n賴昌韻\\n黃名明\\n吳麗卿\\n游治旺\\n蔡嘉音\\n黃靜怡\\n黃淑芬\\n龔姵君\\n景歡燦\\n李政成\\n楊綺芬\\n昌嘉洋\\n李慈啟\\n游倫城\\n林淑安\\n蔡士賢\\n林世城\\n林佳蓉\\n柯宜臻\\n傅佳琳\\n林瑞喬\\n林佳慧\\n鍾俞禎\\n劉慧君\\n劉林中\\n林怡偉\\n余丞苓\\n黃佩玲\\n林建宏\\n方雅慧\\n林柏洋\\n郭舜昇\\n艾巧夫\\n童建霖\\n蔡至剛\\n黃心航\\n張凡成\\n郭淑枝\\n黃必琪\\n楊健麟\\n林建勳\\n鄭琇亞\\n王雅琴\\n李美洋\\n楊少亮\\n王泓泰\\n黃江旭\\n王梅劭\\n林佳光\\n盧必妍\\n林思賢\\n鄧哲榮\\n陳家年\\n張俊傑\\n洪阿惠\\n陳彥治\\n盧冠發\\n程玫靖\\n潘俊賢\\n呂傑宣\\n鄭孟芳\\n彭茹靖\\n王孝純\\n吳昕婷\\n朱惠儀\\n盧文啟\\n謝佳穎\\n鄭憲定\\n馮淑芬\\n聶心怡\\n黃志福\\n馬彥文\\n郭淑真\\n吳欣書\\n鄭佳玲\\n黃健發\\n胡姿婷\\n林義皓\\n胡芳瑜\\n楊易政\\n王德城\\n劉依婷\\n吳俐芷\\n黃詩妃\\n柯韋成\\n鄧亭聿\\n王雅慧\\n陳凱翔\\n藍哲嘉\\n趙偉銘\\n張韋成\\n林向鈺\\n周琬婷\\n尚偉倫\\n賴佳雯\\n陳姵彬\\n林群清\\n趙家豪\\n李政白\\n林俊翔\\n李進慧\\n楊韻如\\n藍姿婷\\n劉嘉泰\\n王柏聖\\n孫宜珊\\n戴萱能\\n高士凱\\n楊又源\\n劉昀天\\n王怡君\\n余月修\\n劉萬季\\n陳信宏\\n陳孝邦\\n朱彥志\\n陳奇瑄\\n鄧淑娟\\n陳逸凡\\n張牧聿\\n唐雪豪\\n林康亮\\n黃旻林\\n蕭淑華\\n劉雯芬\\n陳美惠\\n孫火清\\n溫法堯\\n錢欣潔\\n陳倩潔\\n李雅怡\\n白美珍\\n葉志峰\\n黃佩芬\\n黃麗美\\n黃奎紹\\n邱亭君\\n詹忠光\\n戚亨\\n賴又琦\\n林佳人\\n黃善迪\\n賴苑禾\\n溫重意\\n周怡啟\\n王明昇\\n羅佩樺\\n陳家維\\n張莉雯\\n高俊男\\n林冠蕙\\n王品星\\n吳孟穎\\n黃雅慧\\n馮耀中\\n元延辛\\n王坤安\\n陳慧君\\n張伊映\\n林士凱\\n蘇婷婷\\n陳淑萍\\n林玉佩\\n謝貞妃\\n杜儀鳳\\n陳倩妮\\n胡淑貞\\n楊偉翔\\n姜琬婷\\n張雅芬\\n葉祖雄\\n沈心利\\n彭虹屏\\n余宗儒\\n李立偉\\n臧怡君\\n吳振瑋\\n陳建豪\\n蕭怡伶\\n周芷蓁\\n黃偉剛\\n黃婷婷\\n郎慧萍\\n林昱芳\\n趙宛真\\n白世宏\\n杜明延\\n許淑婷\\n林珍旺\\n蔡孟泉\\n吳晴洋\\n游一鈺\\n朱士弘\\n黃政甫\\n游淑惠\\n張婕妤\\n陳逸華\\n張天亨\\n張嘉韋\\n王志謙\\n黎惠雯\\n高信宏\\n梁柏宇\\n林志喜\\n金宜芳\\n簡國瑋\\n林清英\\n黃彥孝\\n鄭奇翰\\n李慶亮\\n李蓉瑞\\n張明惟\\n游詩亞\\n黃嘉琪\\n張家秀\\n吳柏誠\\n陳得映\\n郭致恬\\n林麗萍\\n陳樂紫\\n翁鈺婷\\n蔡世馨\\n楊建安\\n李湘婷\\n鞠冠宇\\n林志成\\n陳信念\\n林益妏\\n蔡偉成\\n王惠皓\\n王筱婷\\n楊火帆\\n陳怡珊\\n張慧君\\n翁羽威\\n羅幸娥\\n陳俊憲\\n洪奎夫\\n翁均安\\n吳明妮\\n高智超\\n王人仰\\n劉旭士\\n蘇凡菁\\n謝哲維\\n彭偉妃\\n劉耿琦\\n黃柏宇\\n李佳彥\\n唐翊修\\n陳建香\\n葉軍仰\\n吳志宣\\n林珈發\\n黃翔杰\\n郭坤花\\n吳淑惠\\n簡美君\\n許芳如\\n謝水儒\\n陳怡容\\n蔡欣汝\\n王良斌\\n周家銘\\n張凱妮\\n鄭淑珍\\n陳嘉淑\\n魏秋萍\\n簡佳樺\\n劉佳佩\\n李彥伸\\n陳筱涵\\n蔡明平\\n王展人\\n方筠紹\\n陳志偉\\n錢佩豪\\n陳冠霞\\n潘英迪\\n陳冠竹\\n李淑芳\\n謝南慧\\n趙家豪\\n龐皓芳\\n張彥博'"
      ]
     },
     "metadata": {},
     "output_type": "display_data"
    },
    {
     "name": "stdout",
     "output_type": "stream",
     "text": [
      "file物件被關閉\n"
     ]
    }
   ],
   "source": [
    "with open('names.txt',encoding='utf-8') as file:\n",
    "    display(file.read())\n",
    "#跳出程式區塊會自動close()   \n",
    "if file.closed:\n",
    "    print('file物件被關閉')\n",
    "else:\n",
    "    print('file物件沒有關閉')"
   ]
  },
  {
   "cell_type": "code",
   "execution_count": 4,
   "metadata": {},
   "outputs": [
    {
     "data": {
      "text/plain": [
       "'陳怡伶\\n'"
      ]
     },
     "metadata": {},
     "output_type": "display_data"
    },
    {
     "data": {
      "text/plain": [
       "'馮芳如\\n'"
      ]
     },
     "metadata": {},
     "output_type": "display_data"
    },
    {
     "data": {
      "text/plain": [
       "'蒙淑惠\\n'"
      ]
     },
     "metadata": {},
     "output_type": "display_data"
    },
    {
     "data": {
      "text/plain": [
       "'張軒宸\\n'"
      ]
     },
     "metadata": {},
     "output_type": "display_data"
    },
    {
     "name": "stdout",
     "output_type": "stream",
     "text": [
      "file物件被關閉\n"
     ]
    }
   ],
   "source": [
    "with open('names.txt',encoding='utf-8') as file:\n",
    "    display(file.readline())\n",
    "    display(file.readline())\n",
    "    display(file.readline())\n",
    "    display(file.readline())\n",
    "#跳出程式區塊會自動close()   \n",
    "if file.closed:\n",
    "    print('file物件被關閉')\n",
    "else:\n",
    "    print('file物件沒有關閉')"
   ]
  },
  {
   "cell_type": "code",
   "execution_count": 5,
   "metadata": {},
   "outputs": [
    {
     "data": {
      "text/plain": [
       "['鍾俞禎', '謝南慧', '黃嘉琪']"
      ]
     },
     "execution_count": 5,
     "metadata": {},
     "output_type": "execute_result"
    }
   ],
   "source": [
    "import random\n",
    "with open('names.txt',encoding='utf-8') as file:\n",
    "    names: str = file.read()\n",
    "\n",
    "name_list: list[str] = names.split(sep='\\n')\n",
    "random.choice(name_list)\n",
    "random.choices(name_list,k=3)"
   ]
  },
  {
   "cell_type": "code",
   "execution_count": 6,
   "metadata": {},
   "outputs": [],
   "source": [
    "def get_names(nums=1)->list[str]:\n",
    "    import random\n",
    "    with open('names.txt',encoding='utf-8') as file:\n",
    "        names: str = file.read()\n",
    "    name_list: list[str] = names.split(sep='\\n')\n",
    "    return random.choices(name_list,k=nums)"
   ]
  },
  {
   "cell_type": "code",
   "execution_count": 7,
   "metadata": {},
   "outputs": [
    {
     "data": {
      "text/plain": [
       "[{'姓名': '楊健麟', '國文': 61, '英文': 78, '數學': 64, '地理': 68, '生物': 57},\n",
       " {'姓名': '黃志福', '國文': 90, '英文': 94, '數學': 97, '地理': 92, '生物': 60},\n",
       " {'姓名': '李立偉', '國文': 67, '英文': 56, '數學': 93, '地理': 65, '生物': 96},\n",
       " {'姓名': '陳美惠', '國文': 97, '英文': 64, '數學': 91, '地理': 68, '生物': 89},\n",
       " {'姓名': '陳淑娟', '國文': 66, '英文': 72, '數學': 76, '地理': 85, '生物': 86},\n",
       " {'姓名': '游一鈺', '國文': 87, '英文': 68, '數學': 88, '地理': 61, '生物': 78},\n",
       " {'姓名': '溫重意', '國文': 74, '英文': 56, '數學': 96, '地理': 54, '生物': 54},\n",
       " {'姓名': '張慧君', '國文': 87, '英文': 50, '數學': 55, '地理': 62, '生物': 95},\n",
       " {'姓名': '洪阿惠', '國文': 100, '英文': 82, '數學': 77, '地理': 100, '生物': 64},\n",
       " {'姓名': '陳逸華', '國文': 93, '英文': 92, '數學': 70, '地理': 91, '生物': 85},\n",
       " {'姓名': '吳俐芷', '國文': 97, '英文': 70, '數學': 61, '地理': 57, '生物': 70},\n",
       " {'姓名': '張凱妮', '國文': 52, '英文': 83, '數學': 100, '地理': 89, '生物': 95},\n",
       " {'姓名': '吳志宣', '國文': 81, '英文': 85, '數學': 87, '地理': 92, '生物': 94},\n",
       " {'姓名': '黃奎紹', '國文': 89, '英文': 62, '數學': 88, '地理': 96, '生物': 69},\n",
       " {'姓名': '翁羽威', '國文': 82, '英文': 75, '數學': 73, '地理': 73, '生物': 97},\n",
       " {'姓名': '鄭孟芳', '國文': 89, '英文': 95, '數學': 96, '地理': 57, '生物': 72},\n",
       " {'姓名': '葉志峰', '國文': 86, '英文': 76, '數學': 53, '地理': 92, '生物': 100},\n",
       " {'姓名': '鄭奇翰', '國文': 81, '英文': 92, '數學': 72, '地理': 84, '生物': 76},\n",
       " {'姓名': '戚亨', '國文': 83, '英文': 79, '數學': 76, '地理': 51, '生物': 81},\n",
       " {'姓名': '王孝純', '國文': 61, '英文': 93, '數學': 70, '地理': 58, '生物': 91},\n",
       " {'姓名': '陳冠竹', '國文': 51, '英文': 57, '數學': 59, '地理': 85, '生物': 86},\n",
       " {'姓名': '王人仰', '國文': 89, '英文': 66, '數學': 96, '地理': 62, '生物': 91},\n",
       " {'姓名': '張伊映', '國文': 55, '英文': 75, '數學': 53, '地理': 92, '生物': 71},\n",
       " {'姓名': '元延辛', '國文': 53, '英文': 83, '數學': 55, '地理': 79, '生物': 85},\n",
       " {'姓名': '林建宏', '國文': 52, '英文': 81, '數學': 100, '地理': 50, '生物': 61},\n",
       " {'姓名': '詹忠光', '國文': 85, '英文': 73, '數學': 77, '地理': 62, '生物': 55},\n",
       " {'姓名': '李美洋', '國文': 68, '英文': 62, '數學': 71, '地理': 86, '生物': 95},\n",
       " {'姓名': '唐翊修', '國文': 84, '英文': 92, '數學': 52, '地理': 70, '生物': 61},\n",
       " {'姓名': '羅佩樺', '國文': 91, '英文': 86, '數學': 75, '地理': 83, '生物': 92},\n",
       " {'姓名': '林士凱', '國文': 98, '英文': 88, '數學': 94, '地理': 53, '生物': 62},\n",
       " {'姓名': '余宗儒', '國文': 59, '英文': 86, '數學': 63, '地理': 81, '生物': 65},\n",
       " {'姓名': '趙家豪', '國文': 69, '英文': 52, '數學': 93, '地理': 84, '生物': 91},\n",
       " {'姓名': '林柏洋', '國文': 70, '英文': 82, '數學': 73, '地理': 61, '生物': 86},\n",
       " {'姓名': '黃淑芬', '國文': 79, '英文': 83, '數學': 97, '地理': 77, '生物': 53},\n",
       " {'姓名': '王怡君', '國文': 52, '英文': 59, '數學': 74, '地理': 75, '生物': 56},\n",
       " {'姓名': '謝佳穎', '國文': 76, '英文': 76, '數學': 93, '地理': 83, '生物': 57},\n",
       " {'姓名': '張伊映', '國文': 77, '英文': 85, '數學': 64, '地理': 99, '生物': 82},\n",
       " {'姓名': '溫法堯', '國文': 57, '英文': 93, '數學': 50, '地理': 75, '生物': 84},\n",
       " {'姓名': '陳逸華', '國文': 91, '英文': 87, '數學': 67, '地理': 76, '生物': 83},\n",
       " {'姓名': '黃翔杰', '國文': 51, '英文': 95, '數學': 62, '地理': 62, '生物': 98},\n",
       " {'姓名': '崔孝憲', '國文': 51, '英文': 66, '數學': 72, '地理': 78, '生物': 56},\n",
       " {'姓名': '魏秋萍', '國文': 78, '英文': 82, '數學': 96, '地理': 63, '生物': 82},\n",
       " {'姓名': '林佳慧', '國文': 63, '英文': 68, '數學': 93, '地理': 50, '生物': 62},\n",
       " {'姓名': '謝貞妃', '國文': 72, '英文': 75, '數學': 65, '地理': 84, '生物': 53},\n",
       " {'姓名': '邱亭君', '國文': 89, '英文': 62, '數學': 85, '地理': 52, '生物': 53},\n",
       " {'姓名': '蔡嘉音', '國文': 95, '英文': 58, '數學': 67, '地理': 93, '生物': 64},\n",
       " {'姓名': '游詩亞', '國文': 72, '英文': 80, '數學': 59, '地理': 61, '生物': 94},\n",
       " {'姓名': '楊易政', '國文': 71, '英文': 53, '數學': 100, '地理': 55, '生物': 71},\n",
       " {'姓名': '林瑞喬', '國文': 50, '英文': 91, '數學': 71, '地理': 99, '生物': 78},\n",
       " {'姓名': '鄧哲榮', '國文': 94, '英文': 90, '數學': 93, '地理': 64, '生物': 80}]"
      ]
     },
     "execution_count": 7,
     "metadata": {},
     "output_type": "execute_result"
    }
   ],
   "source": [
    "#建立50個學生姓名\n",
    "from random import randint\n",
    "names: list[str] = get_names(50)\n",
    "students:list[dict] = []\n",
    "for name in names:\n",
    "    student:dict = {'姓名':name}\n",
    "    for subject in ['國文','英文','數學','地理','生物']:\n",
    "        student[subject] = randint(50,100)\n",
    "    students.append( student)\n",
    "\n",
    "students   \n"
   ]
  },
  {
   "cell_type": "code",
   "execution_count": 8,
   "metadata": {},
   "outputs": [
    {
     "data": {
      "text/plain": [
       "[{'姓名': '王志謙'},\n",
       " {'姓名': '謝貞妃'},\n",
       " {'姓名': '楊易政'},\n",
       " {'姓名': '金宜芳'},\n",
       " {'姓名': '黃江旭'},\n",
       " {'姓名': '童建霖'},\n",
       " {'姓名': '錢欣潔'},\n",
       " {'姓名': '林佳人'},\n",
       " {'姓名': '林昱芳'},\n",
       " {'姓名': '陳凱翔'},\n",
       " {'姓名': '鄭憲定'},\n",
       " {'姓名': '陳信宏'},\n",
       " {'姓名': '戴萱能'},\n",
       " {'姓名': '陳向愛'},\n",
       " {'姓名': '艾巧夫'},\n",
       " {'姓名': '邱亭君'},\n",
       " {'姓名': '吳昕婷'},\n",
       " {'姓名': '李蓉瑞'},\n",
       " {'姓名': '黃麗美'},\n",
       " {'姓名': '朱惠儀'},\n",
       " {'姓名': '鄭佳玲'},\n",
       " {'姓名': '簡美君'},\n",
       " {'姓名': '余月修'},\n",
       " {'姓名': '崔孝憲'},\n",
       " {'姓名': '李進慧'},\n",
       " {'姓名': '周怡啟'},\n",
       " {'姓名': '李美洋'},\n",
       " {'姓名': '黃善迪'},\n",
       " {'姓名': '趙家豪'},\n",
       " {'姓名': '吳志宣'},\n",
       " {'姓名': '錢佩豪'},\n",
       " {'姓名': '陳孝邦'},\n",
       " {'姓名': '鄭佳玲'},\n",
       " {'姓名': '賴苑禾'},\n",
       " {'姓名': '劉嘉泰'},\n",
       " {'姓名': '周芷蓁'},\n",
       " {'姓名': '劉嘉泰'},\n",
       " {'姓名': '林建勳'},\n",
       " {'姓名': '游淑惠'},\n",
       " {'姓名': '朱士弘'},\n",
       " {'姓名': '鞠冠宇'},\n",
       " {'姓名': '余宗儒'},\n",
       " {'姓名': '黃婷婷'},\n",
       " {'姓名': '黃彥孝'},\n",
       " {'姓名': '陳文賢'},\n",
       " {'姓名': '林思賢'},\n",
       " {'姓名': '戚亨'},\n",
       " {'姓名': '林珈發'},\n",
       " {'姓名': '白美珍'},\n",
       " {'姓名': '陳逸華'}]"
      ]
     },
     "execution_count": 8,
     "metadata": {},
     "output_type": "execute_result"
    }
   ],
   "source": [
    "from random import randint\n",
    "names: list[str] = get_names(50)\n",
    "students:list[dict] = []\n",
    "for name in names:\n",
    "    student:dict = {'姓名':name}\n",
    "    \n",
    "    students.append( student)\n",
    "\n",
    "students"
   ]
  },
  {
   "cell_type": "code",
   "execution_count": 5,
   "metadata": {},
   "outputs": [],
   "source": [
    "import random\n",
    "import pyinputplus as pyip\n",
    "\n",
    "def getSuggestion(bmi:float) -> str:\n",
    "    print(f'您的BMI值為:{bmi:.2f}')\n",
    "    if bmi<18.5:\n",
    "        message = '您的體重:體重過輕'\n",
    "    elif bmi<24:\n",
    "        message = '您的體重:正常'\n",
    "    elif bmi<27:\n",
    "        message = '您的體重:過重'\n",
    "    elif bmi<30:\n",
    "        message = '您的體重:輕度肥胖'\n",
    "    elif bmi<35:\n",
    "        message = '您的體重:中度肥胖'\n",
    "    else:\n",
    "        message = '您的體重:重度肥胖'\n",
    "\n",
    "    return message\n",
    "\n",
    "with open('names.txt',encoding='utf-8') as file:\n",
    "    names: str = file.read()\n",
    "    name_list: list[str] = names.split(sep='\\n')\n",
    "    XXX = random.choice(name_list)\n",
    "    print(f'{XXX}您好:')\n",
    "\n",
    "while(True):\n",
    "    try:\n",
    "        height = eval(input('請輸入身高(公分,120-250):'))\n",
    "        weight = eval(input('請輸入體重(公斤,30-250):'))\n",
    "        if (height >= 120 and height<=250) and (weight >=30 and weight <=250) :\n",
    "            bmi = weight/(height/100)**2            \n",
    "            print(getSuggestion(bmi))\n",
    "            \n",
    "        else :\n",
    "            print('身高或體重超出範圍')\n",
    "    except:\n",
    "        print('輸入格式有錯誤')\n",
    "    \n",
    "    menu_value = pyip.inputMenu([\"yes\",\"no\"],prompt=\"請問您還要繼續測量BMI嗎?\\n\",numbered=True)\n",
    "    if menu_value == 'no':\n",
    "        print(\"----BMI計算程式結束----\\n\")\n",
    "        break\n",
    "\n"
   ]
  }
 ],
 "metadata": {
  "kernelspec": {
   "display_name": "Python 3",
   "language": "python",
   "name": "python3"
  },
  "language_info": {
   "codemirror_mode": {
    "name": "ipython",
    "version": 3
   },
   "file_extension": ".py",
   "mimetype": "text/x-python",
   "name": "python",
   "nbconvert_exporter": "python",
   "pygments_lexer": "ipython3",
   "version": "3.10.13"
  }
 },
 "nbformat": 4,
 "nbformat_minor": 2
}
