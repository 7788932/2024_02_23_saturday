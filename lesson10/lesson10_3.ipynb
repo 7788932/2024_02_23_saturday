{
 "cells": [
  {
   "cell_type": "code",
   "execution_count": 6,
   "metadata": {},
   "outputs": [
    {
     "ename": "FileNotFoundError",
     "evalue": "[Errno 2] No such file or directory: 'names.txt'",
     "output_type": "error",
     "traceback": [
      "\u001b[0;31m---------------------------------------------------------------------------\u001b[0m",
      "\u001b[0;31mFileNotFoundError\u001b[0m                         Traceback (most recent call last)",
      "Cell \u001b[0;32mIn[6], line 1\u001b[0m\n\u001b[0;32m----> 1\u001b[0m file \u001b[38;5;241m=\u001b[39m \u001b[38;5;28;43mopen\u001b[39;49m\u001b[43m(\u001b[49m\u001b[38;5;124;43m'\u001b[39;49m\u001b[38;5;124;43mnames.txt\u001b[39;49m\u001b[38;5;124;43m'\u001b[39;49m\u001b[43m,\u001b[49m\u001b[43mencoding\u001b[49m\u001b[38;5;241;43m=\u001b[39;49m\u001b[38;5;124;43m'\u001b[39;49m\u001b[38;5;124;43mutf-8\u001b[39;49m\u001b[38;5;124;43m'\u001b[39;49m\u001b[43m)\u001b[49m\n\u001b[1;32m      2\u001b[0m \u001b[38;5;66;03m#處理file實體\u001b[39;00m\n\u001b[1;32m      3\u001b[0m file\u001b[38;5;241m.\u001b[39mclose()\n",
      "File \u001b[0;32m~/.local/lib/python3.10/site-packages/IPython/core/interactiveshell.py:310\u001b[0m, in \u001b[0;36m_modified_open\u001b[0;34m(file, *args, **kwargs)\u001b[0m\n\u001b[1;32m    303\u001b[0m \u001b[38;5;28;01mif\u001b[39;00m file \u001b[38;5;129;01min\u001b[39;00m {\u001b[38;5;241m0\u001b[39m, \u001b[38;5;241m1\u001b[39m, \u001b[38;5;241m2\u001b[39m}:\n\u001b[1;32m    304\u001b[0m     \u001b[38;5;28;01mraise\u001b[39;00m \u001b[38;5;167;01mValueError\u001b[39;00m(\n\u001b[1;32m    305\u001b[0m         \u001b[38;5;124mf\u001b[39m\u001b[38;5;124m\"\u001b[39m\u001b[38;5;124mIPython won\u001b[39m\u001b[38;5;124m'\u001b[39m\u001b[38;5;124mt let you open fd=\u001b[39m\u001b[38;5;132;01m{\u001b[39;00mfile\u001b[38;5;132;01m}\u001b[39;00m\u001b[38;5;124m by default \u001b[39m\u001b[38;5;124m\"\u001b[39m\n\u001b[1;32m    306\u001b[0m         \u001b[38;5;124m\"\u001b[39m\u001b[38;5;124mas it is likely to crash IPython. If you know what you are doing, \u001b[39m\u001b[38;5;124m\"\u001b[39m\n\u001b[1;32m    307\u001b[0m         \u001b[38;5;124m\"\u001b[39m\u001b[38;5;124myou can use builtins\u001b[39m\u001b[38;5;124m'\u001b[39m\u001b[38;5;124m open.\u001b[39m\u001b[38;5;124m\"\u001b[39m\n\u001b[1;32m    308\u001b[0m     )\n\u001b[0;32m--> 310\u001b[0m \u001b[38;5;28;01mreturn\u001b[39;00m \u001b[43mio_open\u001b[49m\u001b[43m(\u001b[49m\u001b[43mfile\u001b[49m\u001b[43m,\u001b[49m\u001b[43m \u001b[49m\u001b[38;5;241;43m*\u001b[39;49m\u001b[43margs\u001b[49m\u001b[43m,\u001b[49m\u001b[43m \u001b[49m\u001b[38;5;241;43m*\u001b[39;49m\u001b[38;5;241;43m*\u001b[39;49m\u001b[43mkwargs\u001b[49m\u001b[43m)\u001b[49m\n",
      "\u001b[0;31mFileNotFoundError\u001b[0m: [Errno 2] No such file or directory: 'names.txt'"
     ]
    }
   ],
   "source": [
    "file = open('names.txt',encoding='utf-8')\n",
    "#處理file實體\n",
    "file.close()\n",
    "if file.closed:\n",
    "    print('file物件被關閉')\n",
    "else:\n",
    "    print('file物件沒有關閉')"
   ]
  },
  {
   "cell_type": "code",
   "execution_count": 5,
   "metadata": {},
   "outputs": [
    {
     "ename": "NameError",
     "evalue": "name 'file' is not defined",
     "output_type": "error",
     "traceback": [
      "\u001b[0;31m---------------------------------------------------------------------------\u001b[0m",
      "\u001b[0;31mFileNotFoundError\u001b[0m                         Traceback (most recent call last)",
      "Cell \u001b[0;32mIn[5], line 2\u001b[0m\n\u001b[1;32m      1\u001b[0m \u001b[38;5;28;01mtry\u001b[39;00m:\n\u001b[0;32m----> 2\u001b[0m     file \u001b[38;5;241m=\u001b[39m \u001b[38;5;28;43mopen\u001b[39;49m\u001b[43m(\u001b[49m\u001b[38;5;124;43m'\u001b[39;49m\u001b[38;5;124;43mnames.txt\u001b[39;49m\u001b[38;5;124;43m'\u001b[39;49m\u001b[43m,\u001b[49m\u001b[43mencoding\u001b[49m\u001b[38;5;241;43m=\u001b[39;49m\u001b[38;5;124;43m'\u001b[39;49m\u001b[38;5;124;43mutf-8\u001b[39;49m\u001b[38;5;124;43m'\u001b[39;49m\u001b[43m)\u001b[49m\n\u001b[1;32m      3\u001b[0m \u001b[38;5;28;01mfinally\u001b[39;00m:\n\u001b[1;32m      4\u001b[0m     \u001b[38;5;66;03m#處理file實體\u001b[39;00m\n",
      "File \u001b[0;32m~/.local/lib/python3.10/site-packages/IPython/core/interactiveshell.py:310\u001b[0m, in \u001b[0;36m_modified_open\u001b[0;34m(file, *args, **kwargs)\u001b[0m\n\u001b[1;32m    304\u001b[0m     \u001b[38;5;28;01mraise\u001b[39;00m \u001b[38;5;167;01mValueError\u001b[39;00m(\n\u001b[1;32m    305\u001b[0m         \u001b[38;5;124mf\u001b[39m\u001b[38;5;124m\"\u001b[39m\u001b[38;5;124mIPython won\u001b[39m\u001b[38;5;124m'\u001b[39m\u001b[38;5;124mt let you open fd=\u001b[39m\u001b[38;5;132;01m{\u001b[39;00mfile\u001b[38;5;132;01m}\u001b[39;00m\u001b[38;5;124m by default \u001b[39m\u001b[38;5;124m\"\u001b[39m\n\u001b[1;32m    306\u001b[0m         \u001b[38;5;124m\"\u001b[39m\u001b[38;5;124mas it is likely to crash IPython. If you know what you are doing, \u001b[39m\u001b[38;5;124m\"\u001b[39m\n\u001b[1;32m    307\u001b[0m         \u001b[38;5;124m\"\u001b[39m\u001b[38;5;124myou can use builtins\u001b[39m\u001b[38;5;124m'\u001b[39m\u001b[38;5;124m open.\u001b[39m\u001b[38;5;124m\"\u001b[39m\n\u001b[1;32m    308\u001b[0m     )\n\u001b[0;32m--> 310\u001b[0m \u001b[38;5;28;01mreturn\u001b[39;00m \u001b[43mio_open\u001b[49m\u001b[43m(\u001b[49m\u001b[43mfile\u001b[49m\u001b[43m,\u001b[49m\u001b[43m \u001b[49m\u001b[38;5;241;43m*\u001b[39;49m\u001b[43margs\u001b[49m\u001b[43m,\u001b[49m\u001b[43m \u001b[49m\u001b[38;5;241;43m*\u001b[39;49m\u001b[38;5;241;43m*\u001b[39;49m\u001b[43mkwargs\u001b[49m\u001b[43m)\u001b[49m\n",
      "\u001b[0;31mFileNotFoundError\u001b[0m: [Errno 2] No such file or directory: 'names.txt'",
      "\nDuring handling of the above exception, another exception occurred:\n",
      "\u001b[0;31mNameError\u001b[0m                                 Traceback (most recent call last)",
      "Cell \u001b[0;32mIn[5], line 5\u001b[0m\n\u001b[1;32m      2\u001b[0m     file \u001b[38;5;241m=\u001b[39m \u001b[38;5;28mopen\u001b[39m(\u001b[38;5;124m'\u001b[39m\u001b[38;5;124mnames.txt\u001b[39m\u001b[38;5;124m'\u001b[39m,encoding\u001b[38;5;241m=\u001b[39m\u001b[38;5;124m'\u001b[39m\u001b[38;5;124mutf-8\u001b[39m\u001b[38;5;124m'\u001b[39m)\n\u001b[1;32m      3\u001b[0m \u001b[38;5;28;01mfinally\u001b[39;00m:\n\u001b[1;32m      4\u001b[0m     \u001b[38;5;66;03m#處理file實體\u001b[39;00m\n\u001b[0;32m----> 5\u001b[0m     \u001b[43mfile\u001b[49m\u001b[38;5;241m.\u001b[39mclose()\n\u001b[1;32m      6\u001b[0m \u001b[38;5;28;01mif\u001b[39;00m file\u001b[38;5;241m.\u001b[39mclosed:\n\u001b[1;32m      7\u001b[0m     \u001b[38;5;28mprint\u001b[39m(\u001b[38;5;124m'\u001b[39m\u001b[38;5;124mfile物件被關閉\u001b[39m\u001b[38;5;124m'\u001b[39m)\n",
      "\u001b[0;31mNameError\u001b[0m: name 'file' is not defined"
     ]
    }
   ],
   "source": [
    "try:\n",
    "    file = open('names.txt',encoding='utf-8')\n",
    "finally:\n",
    "    #處理file實體\n",
    "    file.close()\n",
    "if file.closed:\n",
    "    print('file物件被關閉')\n",
    "else:\n",
    "    print('file物件沒有關閉')"
   ]
  },
  {
   "cell_type": "code",
   "execution_count": 3,
   "metadata": {},
   "outputs": [
    {
     "data": {
      "text/plain": [
       "'陳怡伶\\n馮芳如\\n蒙淑惠\\n張軒宸\\n陳向愛\\n賴心怡\\n王怡珊\\n林詠斌\\n陳淑娟\\n崔孝憲\\n林希啟\\n楊韋廷\\n陳文賢\\n王士銘\\n賴昌韻\\n黃名明\\n吳麗卿\\n游治旺\\n蔡嘉音\\n黃靜怡\\n黃淑芬\\n龔姵君\\n景歡燦\\n李政成\\n楊綺芬\\n昌嘉洋\\n李慈啟\\n游倫城\\n林淑安\\n蔡士賢\\n林世城\\n林佳蓉\\n柯宜臻\\n傅佳琳\\n林瑞喬\\n林佳慧\\n鍾俞禎\\n劉慧君\\n劉林中\\n林怡偉\\n余丞苓\\n黃佩玲\\n林建宏\\n方雅慧\\n林柏洋\\n郭舜昇\\n艾巧夫\\n童建霖\\n蔡至剛\\n黃心航\\n張凡成\\n郭淑枝\\n黃必琪\\n楊健麟\\n林建勳\\n鄭琇亞\\n王雅琴\\n李美洋\\n楊少亮\\n王泓泰\\n黃江旭\\n王梅劭\\n林佳光\\n盧必妍\\n林思賢\\n鄧哲榮\\n陳家年\\n張俊傑\\n洪阿惠\\n陳彥治\\n盧冠發\\n程玫靖\\n潘俊賢\\n呂傑宣\\n鄭孟芳\\n彭茹靖\\n王孝純\\n吳昕婷\\n朱惠儀\\n盧文啟\\n謝佳穎\\n鄭憲定\\n馮淑芬\\n聶心怡\\n黃志福\\n馬彥文\\n郭淑真\\n吳欣書\\n鄭佳玲\\n黃健發\\n胡姿婷\\n林義皓\\n胡芳瑜\\n楊易政\\n王德城\\n劉依婷\\n吳俐芷\\n黃詩妃\\n柯韋成\\n鄧亭聿\\n王雅慧\\n陳凱翔\\n藍哲嘉\\n趙偉銘\\n張韋成\\n林向鈺\\n周琬婷\\n尚偉倫\\n賴佳雯\\n陳姵彬\\n林群清\\n趙家豪\\n李政白\\n林俊翔\\n李進慧\\n楊韻如\\n藍姿婷\\n劉嘉泰\\n王柏聖\\n孫宜珊\\n戴萱能\\n高士凱\\n楊又源\\n劉昀天\\n王怡君\\n余月修\\n劉萬季\\n陳信宏\\n陳孝邦\\n朱彥志\\n陳奇瑄\\n鄧淑娟\\n陳逸凡\\n張牧聿\\n唐雪豪\\n林康亮\\n黃旻林\\n蕭淑華\\n劉雯芬\\n陳美惠\\n孫火清\\n溫法堯\\n錢欣潔\\n陳倩潔\\n李雅怡\\n白美珍\\n葉志峰\\n黃佩芬\\n黃麗美\\n黃奎紹\\n邱亭君\\n詹忠光\\n戚亨\\n賴又琦\\n林佳人\\n黃善迪\\n賴苑禾\\n溫重意\\n周怡啟\\n王明昇\\n羅佩樺\\n陳家維\\n張莉雯\\n高俊男\\n林冠蕙\\n王品星\\n吳孟穎\\n黃雅慧\\n馮耀中\\n元延辛\\n王坤安\\n陳慧君\\n張伊映\\n林士凱\\n蘇婷婷\\n陳淑萍\\n林玉佩\\n謝貞妃\\n杜儀鳳\\n陳倩妮\\n胡淑貞\\n楊偉翔\\n姜琬婷\\n張雅芬\\n葉祖雄\\n沈心利\\n彭虹屏\\n余宗儒\\n李立偉\\n臧怡君\\n吳振瑋\\n陳建豪\\n蕭怡伶\\n周芷蓁\\n黃偉剛\\n黃婷婷\\n郎慧萍\\n林昱芳\\n趙宛真\\n白世宏\\n杜明延\\n許淑婷\\n林珍旺\\n蔡孟泉\\n吳晴洋\\n游一鈺\\n朱士弘\\n黃政甫\\n游淑惠\\n張婕妤\\n陳逸華\\n張天亨\\n張嘉韋\\n王志謙\\n黎惠雯\\n高信宏\\n梁柏宇\\n林志喜\\n金宜芳\\n簡國瑋\\n林清英\\n黃彥孝\\n鄭奇翰\\n李慶亮\\n李蓉瑞\\n張明惟\\n游詩亞\\n黃嘉琪\\n張家秀\\n吳柏誠\\n陳得映\\n郭致恬\\n林麗萍\\n陳樂紫\\n翁鈺婷\\n蔡世馨\\n楊建安\\n李湘婷\\n鞠冠宇\\n林志成\\n陳信念\\n林益妏\\n蔡偉成\\n王惠皓\\n王筱婷\\n楊火帆\\n陳怡珊\\n張慧君\\n翁羽威\\n羅幸娥\\n陳俊憲\\n洪奎夫\\n翁均安\\n吳明妮\\n高智超\\n王人仰\\n劉旭士\\n蘇凡菁\\n謝哲維\\n彭偉妃\\n劉耿琦\\n黃柏宇\\n李佳彥\\n唐翊修\\n陳建香\\n葉軍仰\\n吳志宣\\n林珈發\\n黃翔杰\\n郭坤花\\n吳淑惠\\n簡美君\\n許芳如\\n謝水儒\\n陳怡容\\n蔡欣汝\\n王良斌\\n周家銘\\n張凱妮\\n鄭淑珍\\n陳嘉淑\\n魏秋萍\\n簡佳樺\\n劉佳佩\\n李彥伸\\n陳筱涵\\n蔡明平\\n王展人\\n方筠紹\\n陳志偉\\n錢佩豪\\n陳冠霞\\n潘英迪\\n陳冠竹\\n李淑芳\\n謝南慧\\n趙家豪\\n龐皓芳\\n張彥博'"
      ]
     },
     "metadata": {},
     "output_type": "display_data"
    },
    {
     "name": "stdout",
     "output_type": "stream",
     "text": [
      "file物件被關閉\n"
     ]
    }
   ],
   "source": [
    "with open('names.txt',encoding='utf-8') as file:\n",
    "    display(file.read())\n",
    "#跳出程式區塊會自動close()   \n",
    "if file.closed:\n",
    "    print('file物件被關閉')\n",
    "else:\n",
    "    print('file物件沒有關閉')"
   ]
  },
  {
   "cell_type": "code",
   "execution_count": 4,
   "metadata": {},
   "outputs": [
    {
     "data": {
      "text/plain": [
       "'陳怡伶\\n'"
      ]
     },
     "metadata": {},
     "output_type": "display_data"
    },
    {
     "data": {
      "text/plain": [
       "'馮芳如\\n'"
      ]
     },
     "metadata": {},
     "output_type": "display_data"
    },
    {
     "data": {
      "text/plain": [
       "'蒙淑惠\\n'"
      ]
     },
     "metadata": {},
     "output_type": "display_data"
    },
    {
     "data": {
      "text/plain": [
       "'張軒宸\\n'"
      ]
     },
     "metadata": {},
     "output_type": "display_data"
    },
    {
     "name": "stdout",
     "output_type": "stream",
     "text": [
      "file物件被關閉\n"
     ]
    }
   ],
   "source": [
    "with open('names.txt',encoding='utf-8') as file:\n",
    "    display(file.readline())\n",
    "    display(file.readline())\n",
    "    display(file.readline())\n",
    "    display(file.readline())\n",
    "#跳出程式區塊會自動close()   \n",
    "if file.closed:\n",
    "    print('file物件被關閉')\n",
    "else:\n",
    "    print('file物件沒有關閉')"
   ]
  },
  {
   "cell_type": "code",
   "execution_count": 5,
   "metadata": {},
   "outputs": [
    {
     "data": {
      "text/plain": [
       "['鍾俞禎', '謝南慧', '黃嘉琪']"
      ]
     },
     "execution_count": 5,
     "metadata": {},
     "output_type": "execute_result"
    }
   ],
   "source": [
    "import random\n",
    "with open('names.txt',encoding='utf-8') as file:\n",
    "    names: str = file.read()\n",
    "\n",
    "name_list: list[str] = names.split(sep='\\n')\n",
    "random.choice(name_list)\n",
    "random.choices(name_list,k=3)"
   ]
  },
  {
   "cell_type": "code",
   "execution_count": 6,
   "metadata": {},
   "outputs": [],
   "source": [
    "def get_names(nums=1)->list[str]:\n",
    "    import random\n",
    "    with open('names.txt',encoding='utf-8') as file:\n",
    "        names: str = file.read()\n",
    "    name_list: list[str] = names.split(sep='\\n')\n",
    "    return random.choices(name_list,k=nums)"
   ]
  },
  {
   "cell_type": "code",
   "execution_count": 2,
   "metadata": {},
   "outputs": [
    {
     "ename": "NameError",
     "evalue": "name 'get_names' is not defined",
     "output_type": "error",
     "traceback": [
      "\u001b[0;31m---------------------------------------------------------------------------\u001b[0m",
      "\u001b[0;31mNameError\u001b[0m                                 Traceback (most recent call last)",
      "Cell \u001b[0;32mIn[2], line 3\u001b[0m\n\u001b[1;32m      1\u001b[0m \u001b[38;5;66;03m#建立50個學生姓名\u001b[39;00m\n\u001b[1;32m      2\u001b[0m \u001b[38;5;28;01mfrom\u001b[39;00m \u001b[38;5;21;01mrandom\u001b[39;00m \u001b[38;5;28;01mimport\u001b[39;00m randint\n\u001b[0;32m----> 3\u001b[0m names: \u001b[38;5;28mlist\u001b[39m[\u001b[38;5;28mstr\u001b[39m] \u001b[38;5;241m=\u001b[39m \u001b[43mget_names\u001b[49m(\u001b[38;5;241m50\u001b[39m)\n\u001b[1;32m      4\u001b[0m students:\u001b[38;5;28mlist\u001b[39m[\u001b[38;5;28mdict\u001b[39m] \u001b[38;5;241m=\u001b[39m []\n\u001b[1;32m      5\u001b[0m \u001b[38;5;28;01mfor\u001b[39;00m name \u001b[38;5;129;01min\u001b[39;00m names:\n",
      "\u001b[0;31mNameError\u001b[0m: name 'get_names' is not defined"
     ]
    }
   ],
   "source": [
    "#建立50個學生姓名\n",
    "from random import randint\n",
    "names: list[str] = get_names(50)\n",
    "students:list[dict] = []\n",
    "for name in names:\n",
    "    student:dict = {'姓名':name}\n",
    "    for subject in ['國文','英文','數學','地理','生物']:\n",
    "        student[subject] = randint(50,100)\n",
    "    students.append( student)\n",
    "\n",
    "students   \n"
   ]
  },
  {
   "cell_type": "code",
   "execution_count": 1,
   "metadata": {},
   "outputs": [
    {
     "ename": "NameError",
     "evalue": "name 'get_names' is not defined",
     "output_type": "error",
     "traceback": [
      "\u001b[0;31m---------------------------------------------------------------------------\u001b[0m",
      "\u001b[0;31mNameError\u001b[0m                                 Traceback (most recent call last)",
      "Cell \u001b[0;32mIn[1], line 2\u001b[0m\n\u001b[1;32m      1\u001b[0m \u001b[38;5;28;01mfrom\u001b[39;00m \u001b[38;5;21;01mrandom\u001b[39;00m \u001b[38;5;28;01mimport\u001b[39;00m randint\n\u001b[0;32m----> 2\u001b[0m names: \u001b[38;5;28mlist\u001b[39m[\u001b[38;5;28mstr\u001b[39m] \u001b[38;5;241m=\u001b[39m \u001b[43mget_names\u001b[49m(\u001b[38;5;241m50\u001b[39m)\n\u001b[1;32m      3\u001b[0m students:\u001b[38;5;28mlist\u001b[39m[\u001b[38;5;28mdict\u001b[39m] \u001b[38;5;241m=\u001b[39m []\n\u001b[1;32m      4\u001b[0m \u001b[38;5;28;01mfor\u001b[39;00m name \u001b[38;5;129;01min\u001b[39;00m names:\n",
      "\u001b[0;31mNameError\u001b[0m: name 'get_names' is not defined"
     ]
    }
   ],
   "source": [
    "from random import randint\n",
    "names: list[str] = get_names(50)\n",
    "students:list[dict] = []\n",
    "for name in names:\n",
    "    student:dict = {'姓名':name}\n",
    "    \n",
    "    students.append( student)\n",
    "\n",
    "students"
   ]
  },
  {
   "cell_type": "code",
   "execution_count": 5,
   "metadata": {},
   "outputs": [
    {
     "name": "stdout",
     "output_type": "stream",
     "text": [
      "Blank values are not allowed.\n",
      "請問您還要繼續測量BMI嗎?\n",
      "1. yes\n",
      "2. no\n",
      "Blank values are not allowed.\n",
      "請問您還要繼續測量BMI嗎?\n",
      "1. yes\n",
      "2. no\n",
      "Blank values are not allowed.\n",
      "請問您還要繼續測量BMI嗎?\n",
      "1. yes\n",
      "2. no\n",
      "Blank values are not allowed.\n",
      "請問您還要繼續測量BMI嗎?\n",
      "1. yes\n",
      "2. no\n",
      "Blank values are not allowed.\n",
      "請問您還要繼續測量BMI嗎?\n",
      "1. yes\n",
      "2. no\n",
      "Blank values are not allowed.\n",
      "請問您還要繼續測量BMI嗎?\n",
      "1. yes\n",
      "2. no\n",
      "Blank values are not allowed.\n",
      "請問您還要繼續測量BMI嗎?\n",
      "1. yes\n",
      "2. no\n"
     ]
    }
   ],
   "source": [
    "import random\n",
    "import pyinputplus as pyip\n",
    "\n",
    "def getSuggestion(bmi:float) -> str:\n",
    "    print(f'您的BMI值為:{bmi:.2f}')\n",
    "    if bmi<18.5:\n",
    "        message = '您的體重:體重過輕'\n",
    "    elif bmi<24:\n",
    "        message = '您的體重:正常'\n",
    "    elif bmi<27:\n",
    "        message = '您的體重:過重'\n",
    "    elif bmi<30:\n",
    "        message = '您的體重:輕度肥胖'\n",
    "    elif bmi<35:\n",
    "        message = '您的體重:中度肥胖'\n",
    "    else:\n",
    "        message = '您的體重:重度肥胖'\n",
    "\n",
    "    return message\n",
    "\n",
    "with open('names.txt',encoding='utf-8') as file:\n",
    "    names: str = file.read()\n",
    "    name_list: list[str] = names.split(sep='\\n')\n",
    "    XXX = random.choice(name_list)\n",
    "    print(f'{XXX}您好:')\n",
    "\n",
    "while(True):\n",
    "    try:\n",
    "        height = eval(input('請輸入身高(公分,120-250):'))\n",
    "        weight = eval(input('請輸入體重(公斤,30-250):'))\n",
    "        if (height >= 120 and height<=250) and (weight >=30 and weight <=250) :\n",
    "            bmi = weight/(height/100)**2            \n",
    "            print(getSuggestion(bmi))\n",
    "            \n",
    "        else :\n",
    "            print('身高或體重超出範圍')\n",
    "    except:\n",
    "        print('輸入格式有錯誤')\n",
    "    \n",
    "    menu_value = pyip.inputMenu([\"yes\",\"no\"],prompt=\"請問您還要繼續測量BMI嗎?\\n\",numbered=True)\n",
    "    if menu_value == 'no':\n",
    "        print(\"----BMI計算程式結束----\\n\")\n",
    "        break\n",
    "\n"
   ]
  }
 ],
 "metadata": {
  "kernelspec": {
   "display_name": "Python 3",
   "language": "python",
   "name": "python3"
  },
  "language_info": {
   "codemirror_mode": {
    "name": "ipython",
    "version": 3
   },
   "file_extension": ".py",
   "mimetype": "text/x-python",
   "name": "python",
   "nbconvert_exporter": "python",
   "pygments_lexer": "ipython3",
   "version": "3.10.13"
  }
 },
 "nbformat": 4,
 "nbformat_minor": 2
}
