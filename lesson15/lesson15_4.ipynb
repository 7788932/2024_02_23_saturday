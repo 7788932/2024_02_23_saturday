{
 "cells": [
  {
   "cell_type": "code",
   "execution_count": 30,
   "metadata": {},
   "outputs": [
    {
     "data": {
      "text/plain": [
       "array([[71, 97, 73, 56, 80],\n",
       "       [95, 89, 66, 81, 76],\n",
       "       [67, 61, 88, 56, 59],\n",
       "       [83, 79, 88, 81, 98],\n",
       "       [68, 86, 64, 71, 60],\n",
       "       [62, 51, 74, 75, 72],\n",
       "       [65, 69, 94, 79, 90]])"
      ]
     },
     "execution_count": 30,
     "metadata": {},
     "output_type": "execute_result"
    }
   ],
   "source": [
    "import numpy as np\n",
    "# 50學生,5個分數\n",
    "scores = np.random.randint(50,101,size=(7,5))\n",
    "scores"
   ]
  },
  {
   "cell_type": "code",
   "execution_count": 10,
   "metadata": {},
   "outputs": [
    {
     "data": {
      "text/plain": [
       "79.8"
      ]
     },
     "execution_count": 10,
     "metadata": {},
     "output_type": "execute_result"
    }
   ],
   "source": [
    "#numpy 統計\n",
    "np.sum(scores[2])\n",
    "np.average(scores[3])"
   ]
  },
  {
   "cell_type": "code",
   "execution_count": 6,
   "metadata": {},
   "outputs": [
    {
     "name": "stdout",
     "output_type": "stream",
     "text": [
      "[100  74  69  53  77]\n",
      "[ 91 100  81  85  81]\n",
      "[83 99 71 59 87]\n",
      "[ 79 100  51  99  70]\n",
      "[93 62 61 70 87]\n",
      "[74 67 78 94 51]\n",
      "[62 83 59 58 76]\n",
      "[61 76 76 73 98]\n",
      "[79 52 57 65 76]\n",
      "[96 91 67 84 86]\n",
      "[57 78 54 74 73]\n",
      "[55 59 75 98 58]\n",
      "[65 95 85 98 56]\n",
      "[71 96 69 82 57]\n",
      "[57 83 51 86 63]\n",
      "[92 87 54 62 85]\n",
      "[82 91 73 65 68]\n",
      "[51 54 56 95 91]\n",
      "[64 77 94 74 63]\n",
      "[ 84  58  94 100  53]\n",
      "[64 98 69 57 73]\n",
      "[ 64  69  56 100  74]\n",
      "[53 64 71 68 89]\n",
      "[53 65 86 71 84]\n",
      "[91 81 59 97 71]\n",
      "[96 76 57 86 59]\n",
      "[88 70 76 91 74]\n",
      "[97 80 76 97 81]\n",
      "[97 51 74 72 83]\n",
      "[51 54 54 68 60]\n",
      "[93 85 85 63 99]\n",
      "[65 70 56 61 92]\n",
      "[76 64 67 92 66]\n",
      "[99 55 87 72 63]\n",
      "[85 89 66 66 58]\n",
      "[89 56 95 74 97]\n",
      "[99 55 55 81 89]\n",
      "[63 69 73 50 72]\n",
      "[79 62 60 80 54]\n",
      "[66 94 99 77 70]\n",
      "[51 87 74 62 56]\n",
      "[85 59 61 83 79]\n",
      "[76 91 66 50 88]\n",
      "[92 73 56 69 63]\n",
      "[100  67  75  60  81]\n",
      "[62 84 64 59 66]\n",
      "[76 52 63 65 93]\n",
      "[75 58 64 81 59]\n",
      "[81 99 75 71 88]\n",
      "[65 69 91 52 75]\n"
     ]
    }
   ],
   "source": [
    "for i in scores:\n",
    "    print(i)"
   ]
  },
  {
   "cell_type": "code",
   "execution_count": 7,
   "metadata": {},
   "outputs": [
    {
     "data": {
      "text/plain": [
       "dtype('int64')"
      ]
     },
     "execution_count": 7,
     "metadata": {},
     "output_type": "execute_result"
    }
   ],
   "source": [
    "scores.dtype"
   ]
  },
  {
   "cell_type": "code",
   "execution_count": 32,
   "metadata": {},
   "outputs": [
    {
     "data": {
      "text/html": [
       "<div>\n",
       "<style scoped>\n",
       "    .dataframe tbody tr th:only-of-type {\n",
       "        vertical-align: middle;\n",
       "    }\n",
       "\n",
       "    .dataframe tbody tr th {\n",
       "        vertical-align: top;\n",
       "    }\n",
       "\n",
       "    .dataframe thead th {\n",
       "        text-align: right;\n",
       "    }\n",
       "</style>\n",
       "<table border=\"1\" class=\"dataframe\">\n",
       "  <thead>\n",
       "    <tr style=\"text-align: right;\">\n",
       "      <th></th>\n",
       "      <th>國文</th>\n",
       "      <th>英文</th>\n",
       "      <th>數學</th>\n",
       "      <th>地理</th>\n",
       "      <th>歷史</th>\n",
       "    </tr>\n",
       "  </thead>\n",
       "  <tbody>\n",
       "    <tr>\n",
       "      <th>卡寶</th>\n",
       "      <td>71</td>\n",
       "      <td>97</td>\n",
       "      <td>73</td>\n",
       "      <td>56</td>\n",
       "      <td>80</td>\n",
       "    </tr>\n",
       "    <tr>\n",
       "      <th>余光中</th>\n",
       "      <td>95</td>\n",
       "      <td>89</td>\n",
       "      <td>66</td>\n",
       "      <td>81</td>\n",
       "      <td>76</td>\n",
       "    </tr>\n",
       "    <tr>\n",
       "      <th>瘂弦</th>\n",
       "      <td>67</td>\n",
       "      <td>61</td>\n",
       "      <td>88</td>\n",
       "      <td>56</td>\n",
       "      <td>59</td>\n",
       "    </tr>\n",
       "    <tr>\n",
       "      <th>濟慈</th>\n",
       "      <td>83</td>\n",
       "      <td>79</td>\n",
       "      <td>88</td>\n",
       "      <td>81</td>\n",
       "      <td>98</td>\n",
       "    </tr>\n",
       "    <tr>\n",
       "      <th>先勇</th>\n",
       "      <td>68</td>\n",
       "      <td>86</td>\n",
       "      <td>64</td>\n",
       "      <td>71</td>\n",
       "      <td>60</td>\n",
       "    </tr>\n",
       "    <tr>\n",
       "      <th>楊牧</th>\n",
       "      <td>62</td>\n",
       "      <td>51</td>\n",
       "      <td>74</td>\n",
       "      <td>75</td>\n",
       "      <td>72</td>\n",
       "    </tr>\n",
       "    <tr>\n",
       "      <th>海音</th>\n",
       "      <td>65</td>\n",
       "      <td>69</td>\n",
       "      <td>94</td>\n",
       "      <td>79</td>\n",
       "      <td>90</td>\n",
       "    </tr>\n",
       "  </tbody>\n",
       "</table>\n",
       "</div>"
      ],
      "text/plain": [
       "     國文  英文  數學  地理  歷史\n",
       "卡寶   71  97  73  56  80\n",
       "余光中  95  89  66  81  76\n",
       "瘂弦   67  61  88  56  59\n",
       "濟慈   83  79  88  81  98\n",
       "先勇   68  86  64  71  60\n",
       "楊牧   62  51  74  75  72\n",
       "海音   65  69  94  79  90"
      ]
     },
     "execution_count": 32,
     "metadata": {},
     "output_type": "execute_result"
    }
   ],
   "source": [
    "import pandas as pd\n",
    "\n",
    "df = pd.DataFrame(data=scores,columns=['國文','英文','數學','地理','歷史'],index=['卡寶','余光中','瘂弦','濟慈','先勇','楊牧','海音'])\n",
    "df"
   ]
  },
  {
   "cell_type": "code",
   "execution_count": 33,
   "metadata": {},
   "outputs": [
    {
     "data": {
      "text/plain": [
       "array([[71, 97, 73, 56, 80],\n",
       "       [95, 89, 66, 81, 76],\n",
       "       [67, 61, 88, 56, 59],\n",
       "       [83, 79, 88, 81, 98],\n",
       "       [68, 86, 64, 71, 60],\n",
       "       [62, 51, 74, 75, 72],\n",
       "       [65, 69, 94, 79, 90]])"
      ]
     },
     "execution_count": 33,
     "metadata": {},
     "output_type": "execute_result"
    }
   ],
   "source": [
    "df.values"
   ]
  }
 ],
 "metadata": {
  "kernelspec": {
   "display_name": "Python 3",
   "language": "python",
   "name": "python3"
  },
  "language_info": {
   "codemirror_mode": {
    "name": "ipython",
    "version": 3
   },
   "file_extension": ".py",
   "mimetype": "text/x-python",
   "name": "python",
   "nbconvert_exporter": "python",
   "pygments_lexer": "ipython3",
   "version": "3.10.13"
  }
 },
 "nbformat": 4,
 "nbformat_minor": 2
}
