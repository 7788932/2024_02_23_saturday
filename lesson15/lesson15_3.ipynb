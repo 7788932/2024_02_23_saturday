{
 "cells": [
  {
   "cell_type": "code",
   "execution_count": 4,
   "metadata": {},
   "outputs": [
    {
     "data": {
      "text/plain": [
       "99"
      ]
     },
     "execution_count": 4,
     "metadata": {},
     "output_type": "execute_result"
    }
   ],
   "source": [
    "import random\n",
    "random.randint(50,100)"
   ]
  },
  {
   "cell_type": "code",
   "execution_count": 1,
   "metadata": {},
   "outputs": [
    {
     "data": {
      "text/plain": [
       "array([[ 65,  72,  60,  84,  93],\n",
       "       [ 69, 100,  80,  96,  96],\n",
       "       [ 50,  77,  54,  50,  68],\n",
       "       [100,  75,  67,  73,  80],\n",
       "       [ 94,  80,  89,  84,  70],\n",
       "       [ 56,  92,  50,  55,  63],\n",
       "       [ 59,  72,  51,  74,  72],\n",
       "       [ 77,  77,  74,  97,  64],\n",
       "       [ 85,  67,  54,  85,  60],\n",
       "       [ 61,  74,  96,  97,  63],\n",
       "       [ 97,  75,  57,  94,  84],\n",
       "       [ 92,  62,  82,  57,  78],\n",
       "       [ 69,  78,  69,  55,  51],\n",
       "       [ 85,  59,  69,  65,  70],\n",
       "       [ 57,  58,  65,  89, 100],\n",
       "       [ 94,  72,  98,  61,  80],\n",
       "       [ 88,  78,  67,  96,  75],\n",
       "       [ 89,  71,  95,  57,  70],\n",
       "       [ 64, 100,  74,  92,  65],\n",
       "       [ 77,  65,  69,  50,  52],\n",
       "       [ 75,  83,  73,  60,  75],\n",
       "       [ 79,  87,  93,  50,  80],\n",
       "       [ 62,  75,  84,  82,  83],\n",
       "       [ 91,  63,  50,  53,  88],\n",
       "       [ 55,  96,  78,  98,  67],\n",
       "       [ 74,  68,  90,  94,  54],\n",
       "       [ 67,  62,  60,  50,  78],\n",
       "       [ 58,  80,  76,  64,  62],\n",
       "       [ 92,  93,  75,  83,  92],\n",
       "       [ 87,  66,  90,  82,  87],\n",
       "       [ 85,  89,  92,  95,  61],\n",
       "       [ 55,  83,  75,  67,  74],\n",
       "       [ 66,  91, 100,  97,  67],\n",
       "       [ 85,  71,  79,  67,  86],\n",
       "       [ 54,  96,  91,  67,  67],\n",
       "       [ 99,  91,  92,  75, 100],\n",
       "       [ 83,  60,  93,  52,  71],\n",
       "       [ 73,  85,  71,  97,  93],\n",
       "       [ 87,  52, 100,  89,  63],\n",
       "       [ 73,  94,  82,  77,  71],\n",
       "       [ 74,  85,  66,  62,  82],\n",
       "       [ 83,  95,  72,  74,  53],\n",
       "       [100,  65,  87,  90,  68],\n",
       "       [ 83,  88,  57,  65,  81],\n",
       "       [ 86,  67,  53,  83,  86],\n",
       "       [ 51,  84,  53,  89,  94],\n",
       "       [ 81,  94,  83,  50,  91],\n",
       "       [ 50,  72,  92,  71,  72],\n",
       "       [ 87,  55,  55,  59,  91],\n",
       "       [ 97,  78,  88, 100,  95]])"
      ]
     },
     "execution_count": 1,
     "metadata": {},
     "output_type": "execute_result"
    }
   ],
   "source": [
    "import numpy as np\n",
    "# 50學生,5個分數\n",
    "scores = np.random.randint(50,101,size=(50,5))\n",
    "scores"
   ]
  },
  {
   "cell_type": "code",
   "execution_count": 6,
   "metadata": {},
   "outputs": [
    {
     "data": {
      "text/plain": [
       "array([50, 83, 82, 57, 61])"
      ]
     },
     "execution_count": 6,
     "metadata": {},
     "output_type": "execute_result"
    }
   ],
   "source": [
    "scores[0]"
   ]
  },
  {
   "cell_type": "code",
   "execution_count": 7,
   "metadata": {},
   "outputs": [
    {
     "data": {
      "text/plain": [
       "array([[50, 83, 82, 57, 61],\n",
       "       [84, 69, 89, 68, 79],\n",
       "       [58, 73, 65, 98, 85]])"
      ]
     },
     "execution_count": 7,
     "metadata": {},
     "output_type": "execute_result"
    }
   ],
   "source": [
    "scores[0:3]"
   ]
  },
  {
   "cell_type": "code",
   "execution_count": 11,
   "metadata": {},
   "outputs": [
    {
     "data": {
      "text/plain": [
       "array([57, 68, 98, 50, 60, 81, 92, 82, 67, 96, 59, 52, 67, 76, 73, 73, 73,\n",
       "       69, 95, 59])"
      ]
     },
     "execution_count": 11,
     "metadata": {},
     "output_type": "execute_result"
    }
   ],
   "source": [
    "scores[0:20,3]"
   ]
  }
 ],
 "metadata": {
  "kernelspec": {
   "display_name": "Python 3",
   "language": "python",
   "name": "python3"
  },
  "language_info": {
   "codemirror_mode": {
    "name": "ipython",
    "version": 3
   },
   "file_extension": ".py",
   "mimetype": "text/x-python",
   "name": "python",
   "nbconvert_exporter": "python",
   "pygments_lexer": "ipython3",
   "version": "3.10.13"
  }
 },
 "nbformat": 4,
 "nbformat_minor": 2
}
