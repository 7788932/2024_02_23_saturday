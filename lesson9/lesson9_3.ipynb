{
 "cells": [
  {
   "cell_type": "code",
   "execution_count": 8,
   "metadata": {},
   "outputs": [
    {
     "data": {
      "text/plain": [
       "[['筆記電腦', '商用電腦', '電競筆電'], ['APPLE', 'ASUS', 'HTC'], ['冰箱', '洗衣機', '電視']]"
      ]
     },
     "execution_count": 8,
     "metadata": {},
     "output_type": "execute_result"
    }
   ],
   "source": [
    "nb: list[str] = ['筆記電腦','商用電腦','電競筆電'] #type hint\n",
    "mobile: list[str] = ['APPLE','ASUS','HTC']\n",
    "home: list[str] = ['冰箱','洗衣機','電視']\n",
    "\n",
    "all3c = [nb, mobile, home]\n",
    "all3c"
   ]
  },
  {
   "cell_type": "code",
   "execution_count": 7,
   "metadata": {},
   "outputs": [
    {
     "data": {
      "text/plain": [
       "[['冰箱', '洗衣機', '電視'], ['APPLE', 'ASUS', 'HTC'], ['筆記電腦', '商用電腦', '電競筆電']]"
      ]
     },
     "execution_count": 7,
     "metadata": {},
     "output_type": "execute_result"
    }
   ],
   "source": [
    "a113c: list[list[str]] = []\n",
    "a113c.append(nb)\n",
    "a113c.append(mobile)\n",
    "a113c.append(home)\n",
    "a113c.reverse()\n",
    "a113c"
   ]
  },
  {
   "cell_type": "code",
   "execution_count": 9,
   "metadata": {},
   "outputs": [
    {
     "data": {
      "text/plain": [
       "[50, 59, 62, 56, 76]"
      ]
     },
     "execution_count": 9,
     "metadata": {},
     "output_type": "execute_result"
    }
   ],
   "source": [
    "from random import randint\n",
    "stu1: list[int] = [randint(50,100),randint(50,100),randint(50,100),randint(50,100),randint(50,100)]\n",
    "stu1"
   ]
  },
  {
   "cell_type": "code",
   "execution_count": 10,
   "metadata": {},
   "outputs": [
    {
     "data": {
      "text/plain": [
       "[54, 80, 64, 69, 87]"
      ]
     },
     "execution_count": 10,
     "metadata": {},
     "output_type": "execute_result"
    }
   ],
   "source": [
    "stu2: list[int] = []\n",
    "for _ in range(5):\n",
    "    stu2.append(randint(50,100))\n",
    "stu2"
   ]
  },
  {
   "cell_type": "code",
   "execution_count": 11,
   "metadata": {},
   "outputs": [
    {
     "data": {
      "text/plain": [
       "[65, 54, 60, 50, 61]"
      ]
     },
     "execution_count": 11,
     "metadata": {},
     "output_type": "execute_result"
    }
   ],
   "source": [
    "#list comprehension -> 快速建立list\n",
    "#[值 for...in...]\n",
    "stu3: list[int] = [randint(50,100) for _ in range(5)]\n",
    "stu3"
   ]
  },
  {
   "cell_type": "code",
   "execution_count": 13,
   "metadata": {},
   "outputs": [
    {
     "name": "stdout",
     "output_type": "stream",
     "text": [
      "[[84, 73, 99, 77, 65],\n",
      " [66, 67, 75, 91, 63],\n",
      " [72, 51, 75, 80, 60],\n",
      " [76, 72, 68, 54, 65],\n",
      " [62, 58, 70, 82, 74],\n",
      " [86, 83, 89, 56, 62],\n",
      " [79, 63, 95, 69, 85],\n",
      " [82, 69, 87, 67, 53],\n",
      " [61, 75, 87, 85, 77],\n",
      " [78, 83, 62, 62, 61],\n",
      " [74, 98, 100, 95, 96],\n",
      " [87, 55, 78, 75, 72],\n",
      " [59, 97, 64, 51, 69],\n",
      " [71, 95, 76, 99, 67],\n",
      " [51, 92, 97, 79, 81],\n",
      " [96, 75, 71, 95, 92],\n",
      " [63, 76, 72, 95, 74],\n",
      " [83, 89, 82, 55, 66],\n",
      " [77, 73, 56, 65, 66],\n",
      " [97, 56, 61, 72, 72],\n",
      " [63, 68, 59, 97, 81],\n",
      " [69, 76, 55, 61, 51],\n",
      " [63, 61, 65, 77, 64],\n",
      " [54, 64, 59, 85, 68],\n",
      " [98, 80, 83, 51, 73],\n",
      " [84, 68, 100, 50, 100],\n",
      " [76, 65, 78, 75, 59],\n",
      " [73, 74, 60, 80, 56],\n",
      " [50, 71, 87, 87, 99],\n",
      " [61, 84, 55, 56, 62],\n",
      " [58, 73, 67, 96, 84],\n",
      " [54, 94, 94, 74, 76],\n",
      " [92, 90, 66, 62, 94],\n",
      " [58, 77, 89, 52, 90],\n",
      " [97, 95, 80, 72, 89],\n",
      " [91, 82, 94, 78, 63],\n",
      " [60, 59, 90, 58, 100],\n",
      " [90, 63, 52, 84, 52],\n",
      " [53, 96, 91, 94, 86],\n",
      " [97, 90, 89, 57, 61],\n",
      " [82, 71, 90, 73, 89],\n",
      " [90, 70, 84, 88, 86],\n",
      " [59, 77, 97, 76, 67],\n",
      " [78, 90, 81, 74, 99],\n",
      " [64, 59, 88, 75, 66],\n",
      " [84, 76, 73, 50, 84],\n",
      " [98, 54, 67, 85, 93],\n",
      " [51, 66, 78, 59, 60],\n",
      " [69, 60, 53, 96, 62],\n",
      " [66, 72, 50, 67, 88]]\n"
     ]
    }
   ],
   "source": [
    "from pprint import pprint\n",
    "\n",
    "students:list[list[int]] = []\n",
    "for _ in range(50):\n",
    "    stu: list[int] = [randint(50,100) for _ in range(5)]\n",
    "    students.append(stu)\n",
    "\n",
    "pprint(students)\n",
    "\n"
   ]
  }
 ],
 "metadata": {
  "kernelspec": {
   "display_name": "Python 3",
   "language": "python",
   "name": "python3"
  },
  "language_info": {
   "codemirror_mode": {
    "name": "ipython",
    "version": 3
   },
   "file_extension": ".py",
   "mimetype": "text/x-python",
   "name": "python",
   "nbconvert_exporter": "python",
   "pygments_lexer": "ipython3",
   "version": "3.10.13"
  }
 },
 "nbformat": 4,
 "nbformat_minor": 2
}
