{
 "cells": [
  {
   "cell_type": "code",
   "execution_count": 1,
   "metadata": {},
   "outputs": [],
   "source": [
    "with open('names.txt',encoding='utf-8') as file:\n",
    "    names_str:str = file.read()\n",
    "names:list[str] = names_str.split(sep=\"\\n\")\n"
   ]
  },
  {
   "cell_type": "code",
   "execution_count": 2,
   "metadata": {},
   "outputs": [
    {
     "data": {
      "text/plain": [
       "299"
      ]
     },
     "execution_count": 2,
     "metadata": {},
     "output_type": "execute_result"
    }
   ],
   "source": [
    "len(names)"
   ]
  },
  {
   "cell_type": "code",
   "execution_count": 3,
   "metadata": {},
   "outputs": [
    {
     "data": {
      "text/plain": [
       "['林思賢',\n",
       " '臧怡君',\n",
       " '李淑芳',\n",
       " '張彥博',\n",
       " '林柏洋',\n",
       " '沈心利',\n",
       " '黃必琪',\n",
       " '金宜芳',\n",
       " '張莉雯',\n",
       " '葉志峰',\n",
       " '朱惠儀',\n",
       " '林佳光',\n",
       " '楊健麟',\n",
       " '王人仰',\n",
       " '王梅劭',\n",
       " '劉依婷',\n",
       " '陳奇瑄',\n",
       " '黃雅慧',\n",
       " '簡佳樺',\n",
       " '林康亮',\n",
       " '林世城',\n",
       " '朱士弘',\n",
       " '黃偉剛',\n",
       " '陳志偉',\n",
       " '蔡嘉音',\n",
       " '唐雪豪',\n",
       " '林建宏',\n",
       " '朱彥志',\n",
       " '胡淑貞',\n",
       " '吳欣書',\n",
       " '梁柏宇',\n",
       " '楊建安',\n",
       " '戚亨',\n",
       " '黃奎紹',\n",
       " '劉萬季',\n",
       " '張凡成',\n",
       " '王雅慧',\n",
       " '李湘婷',\n",
       " '王人仰',\n",
       " '林麗萍',\n",
       " '杜明延',\n",
       " '林建宏',\n",
       " '李彥伸',\n",
       " '杜儀鳳',\n",
       " '吳淑惠',\n",
       " '陳嘉淑',\n",
       " '蔡明平',\n",
       " '孫火清',\n",
       " '張婕妤',\n",
       " '朱惠儀']"
      ]
     },
     "execution_count": 3,
     "metadata": {},
     "output_type": "execute_result"
    }
   ],
   "source": [
    "import random\n",
    "\n",
    "num = 50\n",
    "randomNames:list[str] = random.choices(names,k=num)\n",
    "randomNames"
   ]
  },
  {
   "cell_type": "code",
   "execution_count": 4,
   "metadata": {},
   "outputs": [
    {
     "data": {
      "text/plain": [
       "Person(name='徐國堂', height=180, weight=109)"
      ]
     },
     "execution_count": 4,
     "metadata": {},
     "output_type": "execute_result"
    }
   ],
   "source": [
    "from pydantic import BaseModel\n",
    "from random import randint\n",
    "class Person(BaseModel):\n",
    "    name:str\n",
    "    height:int\n",
    "    weight:int\n",
    "\n",
    "#實體->dict\n",
    "p1 = Person(name='徐國堂',height=randint(150,195),weight=randint(50,110))\n",
    "p1.model_dump()\n",
    "\n",
    "#實體->dict(引數名稱不能用str)\n",
    "p1 = Person(name='徐國堂',height=randint(150,195),weight=randint(50,110))\n",
    "p1.model_dump()\n",
    "\n",
    "#dict->實體(dict的key一定要是str)\n",
    "p2 = Person.model_validate({'name':'徐國堂',\n",
    "                       'height':randint(150,195),\n",
    "                       'weight':randint(50,110)})\n",
    "p2"
   ]
  },
  {
   "cell_type": "code",
   "execution_count": 5,
   "metadata": {},
   "outputs": [
    {
     "data": {
      "text/plain": [
       "[Person(name='林思賢', height=180, weight=72),\n",
       " Person(name='臧怡君', height=157, weight=106),\n",
       " Person(name='李淑芳', height=158, weight=77),\n",
       " Person(name='張彥博', height=168, weight=76),\n",
       " Person(name='林柏洋', height=166, weight=65),\n",
       " Person(name='沈心利', height=175, weight=94),\n",
       " Person(name='黃必琪', height=171, weight=57),\n",
       " Person(name='金宜芳', height=189, weight=105),\n",
       " Person(name='張莉雯', height=187, weight=72),\n",
       " Person(name='葉志峰', height=195, weight=59),\n",
       " Person(name='朱惠儀', height=183, weight=56),\n",
       " Person(name='林佳光', height=162, weight=52),\n",
       " Person(name='楊健麟', height=154, weight=84),\n",
       " Person(name='王人仰', height=156, weight=79),\n",
       " Person(name='王梅劭', height=172, weight=65),\n",
       " Person(name='劉依婷', height=162, weight=105),\n",
       " Person(name='陳奇瑄', height=163, weight=104),\n",
       " Person(name='黃雅慧', height=168, weight=68),\n",
       " Person(name='簡佳樺', height=154, weight=69),\n",
       " Person(name='林康亮', height=166, weight=57),\n",
       " Person(name='林世城', height=171, weight=58),\n",
       " Person(name='朱士弘', height=192, weight=62),\n",
       " Person(name='黃偉剛', height=161, weight=104),\n",
       " Person(name='陳志偉', height=189, weight=81),\n",
       " Person(name='蔡嘉音', height=192, weight=96),\n",
       " Person(name='唐雪豪', height=161, weight=93),\n",
       " Person(name='林建宏', height=195, weight=76),\n",
       " Person(name='朱彥志', height=177, weight=68),\n",
       " Person(name='胡淑貞', height=193, weight=68),\n",
       " Person(name='吳欣書', height=150, weight=69),\n",
       " Person(name='梁柏宇', height=157, weight=95),\n",
       " Person(name='楊建安', height=185, weight=62),\n",
       " Person(name='戚亨', height=162, weight=99),\n",
       " Person(name='黃奎紹', height=193, weight=56),\n",
       " Person(name='劉萬季', height=189, weight=78),\n",
       " Person(name='張凡成', height=171, weight=81),\n",
       " Person(name='王雅慧', height=163, weight=92),\n",
       " Person(name='李湘婷', height=154, weight=75),\n",
       " Person(name='王人仰', height=180, weight=56),\n",
       " Person(name='林麗萍', height=172, weight=65),\n",
       " Person(name='杜明延', height=176, weight=55),\n",
       " Person(name='林建宏', height=156, weight=89),\n",
       " Person(name='李彥伸', height=172, weight=63),\n",
       " Person(name='杜儀鳳', height=151, weight=69),\n",
       " Person(name='吳淑惠', height=162, weight=109),\n",
       " Person(name='陳嘉淑', height=186, weight=83),\n",
       " Person(name='蔡明平', height=166, weight=102),\n",
       " Person(name='孫火清', height=171, weight=90),\n",
       " Person(name='張婕妤', height=187, weight=51),\n",
       " Person(name='朱惠儀', height=169, weight=69)]"
      ]
     },
     "execution_count": 5,
     "metadata": {},
     "output_type": "execute_result"
    }
   ],
   "source": [
    "from random import randint\n",
    "persons:list[Person] = []\n",
    "for name in randomNames:\n",
    "   person = Person(name=name,\n",
    "           height=randint(150,195),\n",
    "           weight=randint(50,110))\n",
    "   persons.append(person)\n",
    "persons"
   ]
  }
 ],
 "metadata": {
  "kernelspec": {
   "display_name": "Python 3",
   "language": "python",
   "name": "python3"
  },
  "language_info": {
   "codemirror_mode": {
    "name": "ipython",
    "version": 3
   },
   "file_extension": ".py",
   "mimetype": "text/x-python",
   "name": "python",
   "nbconvert_exporter": "python",
   "pygments_lexer": "ipython3",
   "version": "3.10.13"
  }
 },
 "nbformat": 4,
 "nbformat_minor": 2
}
