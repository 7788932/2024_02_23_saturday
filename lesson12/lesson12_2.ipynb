{
 "cells": [
  {
   "cell_type": "code",
   "execution_count": 4,
   "metadata": {},
   "outputs": [
    {
     "data": {
      "text/plain": [
       "{'國文': 78, '英文': 70, '數學': 50, '地理': 90, '歷史': 80}"
      ]
     },
     "execution_count": 4,
     "metadata": {},
     "output_type": "execute_result"
    }
   ],
   "source": [
    "#建立學生分數\n",
    "score = {'國文':78,\n",
    "         '英文':70,\n",
    "         '數學':50,\n",
    "         '地理':90,\n",
    "         '歷史':80}\n",
    "score"
   ]
  },
  {
   "cell_type": "code",
   "execution_count": 7,
   "metadata": {},
   "outputs": [
    {
     "name": "stdout",
     "output_type": "stream",
     "text": [
      "<class '__main__.Student'>\n"
     ]
    },
    {
     "data": {
      "text/plain": [
       "(78, 70, 50, 90, 80)"
      ]
     },
     "execution_count": 7,
     "metadata": {},
     "output_type": "execute_result"
    }
   ],
   "source": [
    "#自訂一個class student,自訂資料類型student\n",
    "class Student:\n",
    "    pass\n",
    "\n",
    "stu1 = Student()\n",
    "print(type(stu1))\n",
    "stu1.國文 = 78\n",
    "stu1.英文 = 70\n",
    "stu1.數學 = 50\n",
    "stu1.地理 = 90\n",
    "stu1.歷史 = 80\n",
    "stu1.國文, stu1.英文, stu1.數學, stu1.地理, stu1.歷史"
   ]
  },
  {
   "cell_type": "code",
   "execution_count": 8,
   "metadata": {},
   "outputs": [
    {
     "data": {
      "text/plain": [
       "Student(國文=78, 英文=86, 數學=92, 地理=65, 歷史=92)"
      ]
     },
     "execution_count": 8,
     "metadata": {},
     "output_type": "execute_result"
    }
   ],
   "source": [
    "from pydantic import BaseModel\n",
    "\n",
    "class Student(BaseModel):\n",
    "    國文:int\n",
    "    英文:int\n",
    "    數學:int\n",
    "    地理:int\n",
    "    歷史:int\n",
    "\n",
    "stu1 = Student(國文=78,英文=86,數學=92,地理=65,歷史=92)\n",
    "stu1"
   ]
  },
  {
   "cell_type": "code",
   "execution_count": 11,
   "metadata": {},
   "outputs": [
    {
     "data": {
      "text/plain": [
       "(Student(國文=63, 英文=95, 數學=65, 地理=64, 歷史=100),\n",
       " Student(國文=71, 英文=51, 數學=52, 地理=85, 歷史=98))"
      ]
     },
     "execution_count": 11,
     "metadata": {},
     "output_type": "execute_result"
    }
   ],
   "source": [
    "from pydantic import BaseModel\n",
    "from random import randint\n",
    "\n",
    "class Student(BaseModel):\n",
    "    國文:int = 0\n",
    "    英文:int = 0\n",
    "    數學:int = 0\n",
    "    地理:int = 0\n",
    "    歷史:int = 0\n",
    "\n",
    "stu1 = Student(國文=randint(50,100),\n",
    "               英文=randint(50,100),\n",
    "               數學=randint(50,100),\n",
    "               地理=randint(50,100),\n",
    "               歷史=randint(50,100))\n",
    "\n",
    "stu2 = Student(國文=randint(50,100),\n",
    "               英文=randint(50,100),\n",
    "               數學=randint(50,100),\n",
    "               地理=randint(50,100),\n",
    "               歷史=randint(50,100))\n",
    "stu1, stu2"
   ]
  }
 ],
 "metadata": {
  "kernelspec": {
   "display_name": "Python 3",
   "language": "python",
   "name": "python3"
  },
  "language_info": {
   "codemirror_mode": {
    "name": "ipython",
    "version": 3
   },
   "file_extension": ".py",
   "mimetype": "text/x-python",
   "name": "python",
   "nbconvert_exporter": "python",
   "pygments_lexer": "ipython3",
   "version": "3.10.13"
  }
 },
 "nbformat": 4,
 "nbformat_minor": 2
}
