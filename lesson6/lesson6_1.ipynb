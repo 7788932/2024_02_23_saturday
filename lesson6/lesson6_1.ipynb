{
 "cells": [
  {
   "cell_type": "code",
   "execution_count": 3,
   "metadata": {},
   "outputs": [
    {
     "name": "stdout",
     "output_type": "stream",
     "text": [
      "請輸入數字:33\n"
     ]
    }
   ],
   "source": [
    "import pyinputplus as pyip\n",
    "#引數名稱的呼叫\n",
    "value = pyip.inputNum(prompt=\"請輸入數字:\",min=0,max=300)\n",
    "print(value)"
   ]
  },
  {
   "cell_type": "code",
   "execution_count": 3,
   "metadata": {},
   "outputs": [
    {
     "ename": "NameError",
     "evalue": "name 'pyip' is not defined",
     "output_type": "error",
     "traceback": [
      "\u001b[0;31m---------------------------------------------------------------------------\u001b[0m",
      "\u001b[0;31mNameError\u001b[0m                                 Traceback (most recent call last)",
      "Cell \u001b[0;32mIn[3], line 2\u001b[0m\n\u001b[1;32m      1\u001b[0m \u001b[38;5;66;03m# 引數名稱的呼叫,可以不依照參數的順序\u001b[39;00m\n\u001b[0;32m----> 2\u001b[0m value \u001b[38;5;241m=\u001b[39m \u001b[43mpyip\u001b[49m\u001b[38;5;241m.\u001b[39minputNum(\u001b[38;5;28mmin\u001b[39m\u001b[38;5;241m=\u001b[39m\u001b[38;5;241m0\u001b[39m,\u001b[38;5;28mmax\u001b[39m\u001b[38;5;241m=\u001b[39m\u001b[38;5;241m300\u001b[39m,prompt\u001b[38;5;241m=\u001b[39m\u001b[38;5;124m'\u001b[39m\u001b[38;5;124m請輸入數字:\u001b[39m\u001b[38;5;124m'\u001b[39m)\n\u001b[1;32m      3\u001b[0m \u001b[38;5;28mprint\u001b[39m(value)\n",
      "\u001b[0;31mNameError\u001b[0m: name 'pyip' is not defined"
     ]
    }
   ],
   "source": [
    "# 引數名稱的呼叫,可以不依照參數的順序\n",
    "value = pyip.inputNum(min=0,max=300,prompt='請輸入數字:')\n",
    "print(value)\n",
    "\n"
   ]
  },
  {
   "cell_type": "code",
   "execution_count": null,
   "metadata": {},
   "outputs": [
    {
     "name": "stdout",
     "output_type": "stream",
     "text": [
      "請輸入數字:91\n"
     ]
    }
   ],
   "source": [
    "#引數值的呼叫,是依照參數順序\n",
    "value = pyip.inputNum(\"請輸入數字:\",10)\n",
    "print(value)"
   ]
  },
  {
   "cell_type": "code",
   "execution_count": null,
   "metadata": {},
   "outputs": [],
   "source": [
    " help(pyip)"
   ]
  },
  {
   "cell_type": "code",
   "execution_count": 7,
   "metadata": {},
   "outputs": [
    {
     "name": "stdout",
     "output_type": "stream",
     "text": [
      "請輸入yes,no:no\n"
     ]
    }
   ],
   "source": [
    "is_yes = pyip.inputYesNo('請輸入yes,no:')\n",
    "print(is_yes)"
   ]
  },
  {
   "cell_type": "code",
   "execution_count": 9,
   "metadata": {},
   "outputs": [
    {
     "name": "stdout",
     "output_type": "stream",
     "text": [
      "請輸入下列3個(早上,中午,下午):'晚上' is not a valid choice.\n",
      "請輸入下列3個(早上,中午,下午):Blank values are not allowed.\n",
      "請輸入下列3個(早上,中午,下午):'b' is not a valid choice.\n",
      "請輸入下列3個(早上,中午,下午):Blank values are not allowed.\n",
      "請輸入下列3個(早上,中午,下午):'5' is not a valid choice.\n",
      "請輸入下列3個(早上,中午,下午):Blank values are not allowed.\n",
      "請輸入下列3個(早上,中午,下午):'5' is not a valid choice.\n",
      "請輸入下列3個(早上,中午,下午):Blank values are not allowed.\n",
      "請輸入下列3個(早上,中午,下午):Blank values are not allowed.\n",
      "請輸入下列3個(早上,中午,下午):Blank values are not allowed.\n",
      "請輸入下列3個(早上,中午,下午):Blank values are not allowed.\n",
      "請輸入下列3個(早上,中午,下午):Blank values are not allowed.\n",
      "請輸入下列3個(早上,中午,下午):Blank values are not allowed.\n",
      "請輸入下列3個(早上,中午,下午):Blank values are not allowed.\n",
      "請輸入下列3個(早上,中午,下午):Blank values are not allowed.\n",
      "請輸入下列3個(早上,中午,下午):Blank values are not allowed.\n",
      "請輸入下列3個(早上,中午,下午):Blank values are not allowed.\n",
      "請輸入下列3個(早上,中午,下午):Blank values are not allowed.\n",
      "請輸入下列3個(早上,中午,下午):Blank values are not allowed.\n",
      "請輸入下列3個(早上,中午,下午):Blank values are not allowed.\n",
      "請輸入下列3個(早上,中午,下午):Blank values are not allowed.\n",
      "請輸入下列3個(早上,中午,下午):Blank values are not allowed.\n",
      "請輸入下列3個(早上,中午,下午):Blank values are not allowed.\n",
      "請輸入下列3個(早上,中午,下午):Blank values are not allowed.\n",
      "請輸入下列3個(早上,中午,下午):"
     ]
    }
   ],
   "source": [
    "state = pyip.inputChoice([\"早上\",\"中午\",\"下午\"],\"請輸入下列3個(早上,中午,下午):\")\n",
    "print(f\"{state}好!\")"
   ]
  }
 ],
 "metadata": {
  "kernelspec": {
   "display_name": "Python 3",
   "language": "python",
   "name": "python3"
  },
  "language_info": {
   "codemirror_mode": {
    "name": "ipython",
    "version": 3
   },
   "file_extension": ".py",
   "mimetype": "text/x-python",
   "name": "python",
   "nbconvert_exporter": "python",
   "pygments_lexer": "ipython3",
   "version": "3.10.13"
  }
 },
 "nbformat": 4,
 "nbformat_minor": 2
}
