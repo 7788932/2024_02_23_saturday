{
 "cells": [
  {
   "cell_type": "code",
   "execution_count": 5,
   "metadata": {},
   "outputs": [
    {
     "name": "stdout",
     "output_type": "stream",
     "text": [
      "請輸入學生分數:83\n",
      "傑出的\n"
     ]
    }
   ],
   "source": [
    "# 3個數字區段\n",
    "import pyinputplus as pyip\n",
    "scores = pyip.inputInt('請輸入學生分數:')\n",
    "print(scores)\n",
    "if scores <60:\n",
    "    print('不及格')\n",
    "else:\n",
    "    if scores >=60 and scores <= 80:\n",
    "        print('不錯喔')\n",
    "    else:\n",
    "        print('傑出的')\n"
   ]
  },
  {
   "cell_type": "code",
   "execution_count": 12,
   "metadata": {},
   "outputs": [
    {
     "name": "stdout",
     "output_type": "stream",
     "text": [
      "請輸入學生分數:73\n",
      "不錯喔\n"
     ]
    }
   ],
   "source": [
    "# 3個數字區段\n",
    "# 使用多項選擇\n",
    "import pyinputplus as pyip\n",
    "scores = pyip.inputInt('請輸入學生分數:')\n",
    "print(scores)\n",
    "if scores <60:\n",
    "    print('不及格')\n",
    "elif scores <= 80:\n",
    "     print('不錯喔')\n",
    "else:\n",
    "    print('傑出的')\n"
   ]
  },
  {
   "cell_type": "code",
   "execution_count": 15,
   "metadata": {},
   "outputs": [
    {
     "name": "stdout",
     "output_type": "stream",
     "text": [
      "您的BMI是:28.02\n",
      "輕度肥胖\n"
     ]
    }
   ],
   "source": [
    "try:\n",
    "    height = int(input('請輸入身高(公分,120-250):'))\n",
    "    weight = int(input('請輸入體重(公斤,30-250):'))\n",
    "    BMI = weight/(height/100)**2\n",
    "    \n",
    "    if (height >= 120 and height<=250) and (weight >=30 and weight <=250) :   \n",
    "        print(f'您的BMI是:{BMI:.2f}')\n",
    "        if BMI<18.5:\n",
    "            print('體重過輕')\n",
    "        elif BMI<24:\n",
    "            print('正常')\n",
    "        elif BMI<27:\n",
    "            print('過重')\n",
    "        elif BMI<30:\n",
    "            print('輕度肥胖')\n",
    "        elif BMI<35:\n",
    "            print('中度肥胖')\n",
    "        else:\n",
    "            print('重度肥胖')\n",
    "except:\n",
    "    print('請重新輸入')"
   ]
  }
 ],
 "metadata": {
  "kernelspec": {
   "display_name": "Python 3",
   "language": "python",
   "name": "python3"
  },
  "language_info": {
   "codemirror_mode": {
    "name": "ipython",
    "version": 3
   },
   "file_extension": ".py",
   "mimetype": "text/x-python",
   "name": "python",
   "nbconvert_exporter": "python",
   "pygments_lexer": "ipython3",
   "version": "3.10.13"
  }
 },
 "nbformat": 4,
 "nbformat_minor": 2
}
