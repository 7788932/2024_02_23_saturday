{
 "cells": [
  {
   "cell_type": "code",
   "execution_count": 5,
   "metadata": {},
   "outputs": [
    {
     "name": "stdout",
     "output_type": "stream",
     "text": [
      "請輸入學生分數:83\n",
      "傑出的\n"
     ]
    }
   ],
   "source": [
    "# 3個數字區段\n",
    "import pyinputplus as pyip\n",
    "scores = pyip.inputInt('請輸入學生分數:')\n",
    "print(scores)\n",
    "if scores <60:\n",
    "    print('不及格')\n",
    "else:\n",
    "    if scores >=60 and scores <= 80:\n",
    "        print('不錯喔')\n",
    "    else:\n",
    "        print('傑出的')\n"
   ]
  },
  {
   "cell_type": "code",
   "execution_count": 9,
   "metadata": {},
   "outputs": [
    {
     "name": "stdout",
     "output_type": "stream",
     "text": [
      "請輸入學生分數:67\n",
      "不錯喔\n"
     ]
    }
   ],
   "source": [
    "# 3個數字區段\n",
    "# 使用多項選擇\n",
    "import pyinputplus as pyip\n",
    "scores = pyip.inputInt('請輸入學生分數:')\n",
    "print(scores)\n",
    "if scores <60:\n",
    "    print('不及格')\n",
    "elif scores >=60 and scores <= 80:\n",
    "     print('不錯喔')\n",
    "else:\n",
    "    print('傑出的')\n"
   ]
  }
 ],
 "metadata": {
  "kernelspec": {
   "display_name": "Python 3",
   "language": "python",
   "name": "python3"
  },
  "language_info": {
   "codemirror_mode": {
    "name": "ipython",
    "version": 3
   },
   "file_extension": ".py",
   "mimetype": "text/x-python",
   "name": "python",
   "nbconvert_exporter": "python",
   "pygments_lexer": "ipython3",
   "version": "3.10.13"
  }
 },
 "nbformat": 4,
 "nbformat_minor": 2
}
